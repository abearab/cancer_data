{
 "cells": [
  {
   "cell_type": "code",
   "execution_count": 1,
   "metadata": {
    "ExecuteTime": {
     "end_time": "2019-04-30T15:18:35.771709Z",
     "start_time": "2019-04-30T15:18:34.665256Z"
    }
   },
   "outputs": [],
   "source": [
    "import numpy as np\n",
    "import seaborn as sns\n",
    "import matplotlib.pyplot as plt\n",
    "import pandas as pd\n",
    "\n",
    "from collections import Counter, defaultdict\n",
    "\n",
    "import sys\n",
    "import os\n",
    "import re\n",
    "sys.path.append(os.path.relpath(\"../helper\"))\n",
    "\n",
    "import name_mappings\n"
   ]
  },
  {
   "cell_type": "markdown",
   "metadata": {},
   "source": [
    "# CRISPR knockdown scores"
   ]
  },
  {
   "cell_type": "code",
   "execution_count": 22,
   "metadata": {
    "ExecuteTime": {
     "end_time": "2019-04-30T15:27:53.936460Z",
     "start_time": "2019-04-30T15:27:53.907720Z"
    }
   },
   "outputs": [],
   "source": [
    "sanger_model_info = pd.read_csv(\"raw/sanger/model_list_latest.csv\")\n",
    "sanger_model_map = dict(zip(sanger_model_info[\"model_name\"],sanger_model_info[\"BROAD_ID\"]))\n"
   ]
  },
  {
   "cell_type": "code",
   "execution_count": 21,
   "metadata": {
    "ExecuteTime": {
     "end_time": "2019-04-30T15:27:53.905260Z",
     "start_time": "2019-04-30T15:27:52.190452Z"
    }
   },
   "outputs": [],
   "source": [
    "score = pd.read_csv(\"raw/sanger/EssentialityMatrices/01_corrected_logFCs.tsv\",sep=\"\\t\",index_col=0).T\n",
    "score.head(5)\n",
    "score = score.drop(\"HT-29v1.0\",axis=0)\n",
    "score = score.drop(\"HT-29v1.1\",axis=0)\n",
    "\n",
    "score.index = score.index.map(lambda x: sanger_model_map[x])\n",
    "score.dtype = np.float16\n",
    "\n",
    "score.to_hdf(\"processed/sanger/01_corrected_logFCs.h5\", key=\"score\")\n"
   ]
  },
  {
   "cell_type": "code",
   "execution_count": 27,
   "metadata": {
    "ExecuteTime": {
     "end_time": "2019-04-30T15:45:10.687375Z",
     "start_time": "2019-04-30T15:45:09.053282Z"
    }
   },
   "outputs": [],
   "source": [
    "score_bayes = pd.read_csv(\"raw/sanger/EssentialityMatrices/03_scaledBayesianFactors.tsv\",sep=\"\\t\",index_col=0).T\n",
    "score_bayes.head(5)\n",
    "score_bayes = score_bayes.drop(\"HT-29v1.0\",axis=0)\n",
    "score_bayes = score_bayes.drop(\"HT-29v1.1\",axis=0)\n",
    "\n",
    "score_bayes.index = score_bayes.index.map(lambda x: sanger_model_map[x])\n",
    "score_bayes.dtype = np.float16\n",
    "\n",
    "score_bayes.to_hdf(\"processed/sanger/03_scaledBayesianFactors.h5\", key=\"score_bayes\")\n"
   ]
  }
 ],
 "metadata": {
  "kernelspec": {
   "display_name": "Python 3",
   "language": "python",
   "name": "python3"
  },
  "language_info": {
   "codemirror_mode": {
    "name": "ipython",
    "version": 3
   },
   "file_extension": ".py",
   "mimetype": "text/x-python",
   "name": "python",
   "nbconvert_exporter": "python",
   "pygments_lexer": "ipython3",
   "version": "3.7.4"
  },
  "toc": {
   "base_numbering": 1,
   "nav_menu": {},
   "number_sections": true,
   "sideBar": true,
   "skip_h1_title": false,
   "title_cell": "Table of Contents",
   "title_sidebar": "Contents",
   "toc_cell": false,
   "toc_position": {},
   "toc_section_display": true,
   "toc_window_display": false
  }
 },
 "nbformat": 4,
 "nbformat_minor": 2
}
