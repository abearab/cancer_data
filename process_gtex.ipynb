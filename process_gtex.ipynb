{
 "cells": [
  {
   "cell_type": "code",
   "execution_count": 1,
   "metadata": {
    "ExecuteTime": {
     "end_time": "2020-01-18T18:39:47.464191Z",
     "start_time": "2020-01-18T18:39:45.991154Z"
    }
   },
   "outputs": [],
   "source": [
    "import numpy as np\n",
    "import seaborn as sns\n",
    "import matplotlib.pyplot as plt\n",
    "import pandas as pd\n",
    "from functools import reduce\n",
    "\n",
    "from scipy.stats import zscore\n",
    "\n",
    "from collections import Counter, defaultdict\n",
    "\n",
    "import sys\n",
    "import os\n",
    "import re\n",
    "sys.path.append(os.path.relpath(\"../helper\"))\n",
    "\n",
    "sys.path.append(os.path.relpath(\"../huygens\"))\n",
    "sys.path.append(os.path.relpath(\"../galileo\"))\n",
    "\n",
    "import galileo as gal\n",
    "import huygens as huy\n",
    "\n",
    "import name_mappings\n"
   ]
  },
  {
   "cell_type": "code",
   "execution_count": 2,
   "metadata": {
    "ExecuteTime": {
     "end_time": "2020-01-18T18:39:47.470525Z",
     "start_time": "2020-01-18T18:39:47.466488Z"
    }
   },
   "outputs": [],
   "source": [
    "def concat_cols(df, cols, delim):\n",
    "    cols_str = [df[x].astype(str) for x in cols]\n",
    "\n",
    "    return reduce(lambda a, b: a + delim + b, cols_str)"
   ]
  },
  {
   "cell_type": "markdown",
   "metadata": {},
   "source": [
    "# RNAseq"
   ]
  },
  {
   "cell_type": "markdown",
   "metadata": {},
   "source": [
    "## Manifest"
   ]
  },
  {
   "cell_type": "code",
   "execution_count": 3,
   "metadata": {
    "ExecuteTime": {
     "end_time": "2020-01-18T18:39:49.039420Z",
     "start_time": "2020-01-18T18:39:48.582492Z"
    }
   },
   "outputs": [],
   "source": [
    "gtex_manifest_1 = pd.read_csv(\"raw/gtex/E-MTAB-5214.sdrf.txt\", sep=\"\\t\")\n",
    "gtex_manifest_2 = pd.read_csv(\"raw/gtex/E-MTAB-2919.sdrf.txt\", sep=\"\\t\")\n",
    "\n",
    "gtex_manifest = pd.concat([\n",
    "    gtex_manifest_1,\n",
    "    gtex_manifest_2\n",
    "], \n",
    "    axis=0, sort=True)\n",
    "\n",
    "sra_gtex_map = dict(\n",
    "    zip(gtex_manifest[\"Comment[ENA_RUN]\"], gtex_manifest[\"Source Name\"]))"
   ]
  },
  {
   "cell_type": "markdown",
   "metadata": {},
   "source": [
    "## Gene expression"
   ]
  },
  {
   "cell_type": "code",
   "execution_count": 4,
   "metadata": {
    "ExecuteTime": {
     "end_time": "2020-01-18T17:26:06.726240Z",
     "start_time": "2020-01-18T17:12:59.789471Z"
    }
   },
   "outputs": [],
   "source": [
    "gtex_genex = pd.read_csv(\"raw/gtex/GTEx_Analysis_2017-06-05_v8_RNASeQCv1.1.9_gene_tpm.gct.gz\",skiprows=2,index_col=0,sep=\"\\t\")"
   ]
  },
  {
   "cell_type": "code",
   "execution_count": 7,
   "metadata": {
    "ExecuteTime": {
     "end_time": "2020-01-18T17:30:05.064402Z",
     "start_time": "2020-01-18T17:30:05.048216Z"
    }
   },
   "outputs": [],
   "source": [
    "gtex_genex.index = gtex_genex[\"Description\"] + \"_\" + gtex_genex.index\n",
    "gtex_genex.drop([\"Description\"],axis=1,inplace=True)\n",
    "gtex_genex = gtex_genex.T\n",
    "gtex_genex = np.log10(gtex_genex+1)\n",
    "gtex_genex = gtex_genex.astype(np.float32)"
   ]
  },
  {
   "cell_type": "code",
   "execution_count": 23,
   "metadata": {
    "ExecuteTime": {
     "end_time": "2020-01-18T17:39:03.968675Z",
     "start_time": "2020-01-18T17:37:52.929771Z"
    }
   },
   "outputs": [],
   "source": [
    "gtex_genex.to_hdf(\"processed/gtex/gtex_genex.hdf\",key=\"gtex_genex\",mode=\"w\")"
   ]
  },
  {
   "cell_type": "markdown",
   "metadata": {},
   "source": [
    "## 3' splicing"
   ]
  },
  {
   "cell_type": "code",
   "execution_count": 3,
   "metadata": {
    "ExecuteTime": {
     "end_time": "2020-01-18T17:45:38.521379Z",
     "start_time": "2020-01-18T17:43:57.925740Z"
    }
   },
   "outputs": [
    {
     "name": "stderr",
     "output_type": "stream",
     "text": [
      "/Users/khu/anaconda3/envs/cenv/lib/python3.7/site-packages/IPython/core/interactiveshell.py:3051: DtypeWarning: Columns (2) have mixed types. Specify dtype option on import or set low_memory=False.\n",
      "  interactivity=interactivity, compiler=compiler, result=result)\n"
     ]
    }
   ],
   "source": [
    "gtex_a3ss = pd.read_csv(\"raw/gtex/gtex_merge_graphs_alt_3prime_C2.confirmed.txt.gz\",sep=\"\\t\")"
   ]
  },
  {
   "cell_type": "code",
   "execution_count": 7,
   "metadata": {
    "ExecuteTime": {
     "end_time": "2020-01-18T17:47:22.232452Z",
     "start_time": "2020-01-18T17:47:15.446366Z"
    }
   },
   "outputs": [],
   "source": [
    "gtex_a3ss[\"exon_id\"] = concat_cols(gtex_a3ss, [\"gene_name\",\n",
    "                                           \"event_type\",\n",
    "                                           \"event_chr\",\n",
    "                                           \"event_coordinates\",\n",
    "                                           \"alt_region_coordinates\"],\n",
    "                                   \"_\"\n",
    "                                  )\n",
    "    \n",
    "gtex_a3ss = gtex_a3ss.drop([\"event_id\",\n",
    "                    \"event_type\",\n",
    "                    \"event_chr\",\n",
    "                    \"event_coordinates\",\n",
    "                    \"alt_region_coordinates\",\n",
    "                    \"gene_name\"\n",
    "                   ],axis=1)\n",
    "\n",
    "gtex_a3ss = gtex_a3ss.set_index(\"exon_id\")\n",
    "gtex_a3ss.columns = [sra_gtex_map[x[:-8]] for x in gtex_a3ss.columns]\n",
    "gtex_a3ss = gtex_a3ss.T\n",
    "gtex_a3ss = gtex_a3ss.astype(np.float32)"
   ]
  },
  {
   "cell_type": "code",
   "execution_count": 29,
   "metadata": {
    "ExecuteTime": {
     "end_time": "2020-01-18T18:02:08.642637Z",
     "start_time": "2020-01-18T18:01:42.563660Z"
    }
   },
   "outputs": [],
   "source": [
    "gtex_a3ss.to_hdf(\"processed/gtex/gtex_a3ss.hdf\",key=\"gtex_a3ss\",mode=\"w\")"
   ]
  },
  {
   "cell_type": "markdown",
   "metadata": {},
   "source": [
    "## Exon skip splicing"
   ]
  },
  {
   "cell_type": "code",
   "execution_count": 4,
   "metadata": {
    "ExecuteTime": {
     "end_time": "2020-01-18T18:44:53.663989Z",
     "start_time": "2020-01-18T18:39:53.726261Z"
    }
   },
   "outputs": [
    {
     "name": "stderr",
     "output_type": "stream",
     "text": [
      "/Users/khu/anaconda3/envs/cenv/lib/python3.7/site-packages/IPython/core/interactiveshell.py:3051: DtypeWarning: Columns (2) have mixed types. Specify dtype option on import or set low_memory=False.\n",
      "  interactivity=interactivity, compiler=compiler, result=result)\n"
     ]
    }
   ],
   "source": [
    "gtex_se = pd.read_csv(\"raw/gtex/gtex_merge_graphs_exon_skip_C2.confirmed.txt.gz\",sep=\"\\t\")"
   ]
  },
  {
   "cell_type": "code",
   "execution_count": 5,
   "metadata": {
    "ExecuteTime": {
     "end_time": "2020-01-18T18:46:32.850754Z",
     "start_time": "2020-01-18T18:44:53.675848Z"
    }
   },
   "outputs": [],
   "source": [
    "gtex_se[\"exon_id\"] = concat_cols(gtex_se, [\"gene_name\",\n",
    "                                           \"event_type\",\n",
    "                                           \"event_chr\",\n",
    "                                           \"event_coordinates\",\n",
    "                                           \"alt_region_coordinates\"],\n",
    "                                   \"_\"\n",
    "                                  )\n",
    "    \n",
    "gtex_se = gtex_se.drop([\"event_id\",\n",
    "                    \"event_type\",\n",
    "                    \"event_chr\",\n",
    "                    \"event_coordinates\",\n",
    "                    \"alt_region_coordinates\",\n",
    "                    \"gene_name\"\n",
    "                   ],axis=1)\n",
    "\n",
    "gtex_se = gtex_se.set_index(\"exon_id\")\n",
    "gtex_se.columns = [sra_gtex_map[x[:-8]] for x in gtex_se.columns]\n",
    "gtex_se = gtex_se.T\n",
    "gtex_se = gtex_se.astype(np.float32)"
   ]
  },
  {
   "cell_type": "code",
   "execution_count": 6,
   "metadata": {
    "ExecuteTime": {
     "end_time": "2020-01-18T18:47:49.998039Z",
     "start_time": "2020-01-18T18:46:32.875037Z"
    }
   },
   "outputs": [],
   "source": [
    "gtex_se.to_hdf(\"processed/gtex/gtex_se.hdf\",key=\"gtex_se\",mode=\"w\")"
   ]
  }
 ],
 "metadata": {
  "kernelspec": {
   "display_name": "Python 3",
   "language": "python",
   "name": "python3"
  },
  "language_info": {
   "codemirror_mode": {
    "name": "ipython",
    "version": 3
   },
   "file_extension": ".py",
   "mimetype": "text/x-python",
   "name": "python",
   "nbconvert_exporter": "python",
   "pygments_lexer": "ipython3",
   "version": "3.7.7"
  },
  "notify_time": "5",
  "toc": {
   "base_numbering": 1,
   "nav_menu": {},
   "number_sections": true,
   "sideBar": true,
   "skip_h1_title": false,
   "title_cell": "Table of Contents",
   "title_sidebar": "Contents",
   "toc_cell": false,
   "toc_position": {},
   "toc_section_display": true,
   "toc_window_display": true
  }
 },
 "nbformat": 4,
 "nbformat_minor": 2
}
