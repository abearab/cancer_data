{
 "cells": [
  {
   "cell_type": "code",
   "execution_count": 1,
   "metadata": {
    "ExecuteTime": {
     "end_time": "2019-12-20T23:20:29.802474Z",
     "start_time": "2019-12-20T23:20:24.569934Z"
    }
   },
   "outputs": [
    {
     "data": {
      "text/html": [
       "        <script type=\"text/javascript\">\n",
       "        window.PlotlyConfig = {MathJaxConfig: 'local'};\n",
       "        if (window.MathJax) {MathJax.Hub.Config({SVG: {font: \"STIX-Web\"}});}\n",
       "        if (typeof require !== 'undefined') {\n",
       "        require.undef(\"plotly\");\n",
       "        requirejs.config({\n",
       "            paths: {\n",
       "                'plotly': ['https://cdn.plot.ly/plotly-latest.min']\n",
       "            }\n",
       "        });\n",
       "        require(['plotly'], function(Plotly) {\n",
       "            window._Plotly = Plotly;\n",
       "        });\n",
       "        }\n",
       "        </script>\n",
       "        "
      ]
     },
     "metadata": {},
     "output_type": "display_data"
    },
    {
     "data": {
      "text/html": [
       "        <script type=\"text/javascript\">\n",
       "        window.PlotlyConfig = {MathJaxConfig: 'local'};\n",
       "        if (window.MathJax) {MathJax.Hub.Config({SVG: {font: \"STIX-Web\"}});}\n",
       "        if (typeof require !== 'undefined') {\n",
       "        require.undef(\"plotly\");\n",
       "        requirejs.config({\n",
       "            paths: {\n",
       "                'plotly': ['https://cdn.plot.ly/plotly-latest.min']\n",
       "            }\n",
       "        });\n",
       "        require(['plotly'], function(Plotly) {\n",
       "            window._Plotly = Plotly;\n",
       "        });\n",
       "        }\n",
       "        </script>\n",
       "        "
      ]
     },
     "metadata": {},
     "output_type": "display_data"
    }
   ],
   "source": [
    "import numpy as np\n",
    "import seaborn as sns\n",
    "import pandas as pd\n",
    "\n",
    "from collections import Counter, defaultdict\n",
    "\n",
    "import sys\n",
    "import os\n",
    "import re\n",
    "sys.path.append(os.path.relpath(\"../helper\"))\n",
    "\n",
    "import name_mappings\n",
    "import helper_stats\n",
    "import helper_plots"
   ]
  },
  {
   "cell_type": "code",
   "execution_count": 2,
   "metadata": {
    "ExecuteTime": {
     "end_time": "2019-12-20T23:20:29.808974Z",
     "start_time": "2019-12-20T23:20:29.804727Z"
    }
   },
   "outputs": [],
   "source": [
    "def format_name(x):\n",
    "    x_split = x.split(\" (\")\n",
    "    return x_split[0] + \"_\" + x_split[1][:-1]"
   ]
  },
  {
   "cell_type": "markdown",
   "metadata": {},
   "source": [
    "# Avana"
   ]
  },
  {
   "cell_type": "code",
   "execution_count": 3,
   "metadata": {
    "ExecuteTime": {
     "end_time": "2019-12-20T05:21:07.237846Z",
     "start_time": "2019-12-20T05:20:54.909329Z"
    }
   },
   "outputs": [],
   "source": [
    "avana = pd.read_csv(\"raw/depmap/Achilles_gene_effect_avana_19q4.csv\",index_col=0).T\n",
    "\n",
    "avana.index = avana.index.map(lambda x: format_name(x))\n",
    "avana = avana.T\n",
    "\n",
    "avana.to_hdf(\"processed/depmap/avana.hdf\",key=\"avana\")"
   ]
  },
  {
   "cell_type": "markdown",
   "metadata": {},
   "source": [
    "# DRIVE"
   ]
  },
  {
   "cell_type": "code",
   "execution_count": 4,
   "metadata": {
    "ExecuteTime": {
     "end_time": "2019-03-11T22:53:12.840593Z",
     "start_time": "2019-03-11T22:53:11.368426Z"
    }
   },
   "outputs": [],
   "source": [
    "drive = pd.read_csv(\"raw/depmap/demeter2-drive_v12-gene-effect.csv\",index_col=0).T\n",
    "\n",
    "drive.index = drive.index.map(lambda x: format_name(x))\n",
    "drive = drive.T\n",
    "drive = drive.drop([\"GISTT1_GASTROINTESTINAL_TRACT\"],axis=0)\n",
    "drive.index = drive.index.map(lambda x: name_mappings.name_map[x])\n",
    "\n",
    "drive.to_hdf(\"processed/depmap/demeter2-drive_v12-gene-effect.hdf\",key=\"drive\")"
   ]
  },
  {
   "cell_type": "markdown",
   "metadata": {},
   "source": [
    "# Achilles"
   ]
  },
  {
   "cell_type": "code",
   "execution_count": 7,
   "metadata": {
    "ExecuteTime": {
     "end_time": "2019-03-11T23:49:09.651715Z",
     "start_time": "2019-03-11T23:49:03.645150Z"
    }
   },
   "outputs": [],
   "source": [
    "achilles = pd.read_csv(\"raw/depmap/demeter2-achilles_v13-gene-effect.csv\",index_col=0).T\n",
    "\n",
    "achilles.index = achilles.index.map(lambda x: format_name(x))\n",
    "achilles = achilles.T\n",
    "achilles.index = achilles.index.map(lambda x: name_mappings.name_map[x])\n",
    "\n",
    "achilles.to_hdf(\"processed/depmap/demeter2-achilles_v13-gene-effect.hdf\",key=\"achilles\")"
   ]
  },
  {
   "cell_type": "markdown",
   "metadata": {},
   "source": [
    "# Mutation classes"
   ]
  },
  {
   "cell_type": "markdown",
   "metadata": {},
   "source": [
    "## Damaging"
   ]
  },
  {
   "cell_type": "code",
   "execution_count": 25,
   "metadata": {
    "ExecuteTime": {
     "end_time": "2019-03-10T22:19:48.307645Z",
     "start_time": "2019-03-10T22:19:32.235741Z"
    }
   },
   "outputs": [],
   "source": [
    "damaging_muts = pd.read_csv(\"raw/depmap/depmap-mutation-calls_v11-damaging-mutation.csv\",index_col=0).T\n",
    "\n",
    "damaging_muts.index = damaging_muts.index.map(lambda x: format_name(x))\n",
    "damaging_muts = damaging_muts.T\n",
    "\n",
    "damaging_muts.to_hdf(\"processed/depmap/depmap-mutation-calls_v11-damaging-mutation.hdf\",key=\"damaging_muts\")"
   ]
  },
  {
   "cell_type": "markdown",
   "metadata": {
    "ExecuteTime": {
     "end_time": "2019-03-10T22:18:44.114121Z",
     "start_time": "2019-03-10T22:18:44.053380Z"
    }
   },
   "source": [
    "## Hotspot"
   ]
  },
  {
   "cell_type": "code",
   "execution_count": 27,
   "metadata": {
    "ExecuteTime": {
     "end_time": "2019-03-10T22:20:42.579313Z",
     "start_time": "2019-03-10T22:20:39.498419Z"
    }
   },
   "outputs": [],
   "source": [
    "hs_muts = pd.read_csv(\"raw/depmap/depmap-mutation-calls_v11-hotspot-mutation.csv\",index_col=0).T\n",
    "\n",
    "hs_muts.index = hs_muts.index.map(lambda x: format_name(x))\n",
    "hs_muts = hs_muts.T\n",
    "\n",
    "hs_muts.to_hdf(\"processed/depmap/depmap-mutation-calls_v11-hotspot-mutation.hdf\",key=\"hs_muts\")"
   ]
  },
  {
   "cell_type": "markdown",
   "metadata": {},
   "source": [
    "## Other"
   ]
  },
  {
   "cell_type": "code",
   "execution_count": 28,
   "metadata": {
    "ExecuteTime": {
     "end_time": "2019-03-10T22:21:01.521856Z",
     "start_time": "2019-03-10T22:20:42.581616Z"
    }
   },
   "outputs": [],
   "source": [
    "other_muts = pd.read_csv(\"raw/depmap/depmap-mutation-calls_v11-other-mutation.csv\",index_col=0).T\n",
    "\n",
    "other_muts.index = other_muts.index.map(lambda x: format_name(x))\n",
    "other_muts = other_muts.T\n",
    "\n",
    "other_muts.to_hdf(\"processed/depmap/depmap-mutation-calls_v11-other-mutation.hdf\",key=\"other_muts\")"
   ]
  },
  {
   "cell_type": "markdown",
   "metadata": {
    "ExecuteTime": {
     "end_time": "2019-03-10T22:12:24.073256Z",
     "start_time": "2019-03-10T22:12:23.475960Z"
    }
   },
   "source": [
    "# Drug responses"
   ]
  },
  {
   "cell_type": "markdown",
   "metadata": {
    "ExecuteTime": {
     "end_time": "2019-03-10T22:22:55.992059Z",
     "start_time": "2019-03-10T22:22:55.989277Z"
    }
   },
   "source": [
    "## Primary screen"
   ]
  },
  {
   "cell_type": "code",
   "execution_count": 37,
   "metadata": {
    "ExecuteTime": {
     "end_time": "2019-03-10T22:26:57.703008Z",
     "start_time": "2019-03-10T22:26:55.680381Z"
    }
   },
   "outputs": [],
   "source": [
    "primary_col_meta = pd.read_csv(\n",
    "    \"raw/depmap/primary-screen-public-tentative_v4-primary-merged-replicate-col-meta.csv\")\n",
    "\n",
    "primary_row_meta = pd.read_csv(\n",
    "    \"raw/depmap/primary-screen-public-tentative_v4-primary-merged-row-meta.csv\")\n",
    "\n",
    "primary_name_map = dict(zip(primary_row_meta[\"feature_id\"],primary_row_meta[\"depmap_id\"]))\n",
    "\n",
    "primary_median = pd.read_csv(\n",
    "    \"raw/depmap/primary-screen-public-tentative_v4-primary-merged-median-lfcvc-cb.csv\",index_col=0)\n",
    "primary_mad = pd.read_csv(\n",
    "    \"raw/depmap/primary-screen-public-tentative_v4-primary-merged-mad-lfcvc-cb.csv\",index_col=0)\n",
    "\n",
    "primary_median.index = primary_median.index.map(lambda x: primary_name_map[x])\n",
    "primary_mad.index = primary_mad.index.map(lambda x: primary_name_map[x])"
   ]
  },
  {
   "cell_type": "code",
   "execution_count": 39,
   "metadata": {
    "ExecuteTime": {
     "end_time": "2019-03-10T22:28:06.800387Z",
     "start_time": "2019-03-10T22:28:06.590530Z"
    }
   },
   "outputs": [],
   "source": [
    "primary_median.to_hdf(\n",
    "    \"processed/depmap/primary-screen-public-tentative_v4-primary-merged-median-lfcvc-cb.hdf\", key=\"primary_median\")\n",
    "\n",
    "primary_mad.to_hdf(\n",
    "    \"processed/depmap/primary-screen-public-tentative_v4-primary-merged-mad-lfcvc-cb.hdf\", key=\"primary_mad\")\n"
   ]
  },
  {
   "cell_type": "markdown",
   "metadata": {},
   "source": [
    "## Secondary screen"
   ]
  },
  {
   "cell_type": "code",
   "execution_count": 40,
   "metadata": {
    "ExecuteTime": {
     "end_time": "2019-03-10T22:29:17.675591Z",
     "start_time": "2019-03-10T22:29:12.418744Z"
    }
   },
   "outputs": [
    {
     "name": "stderr",
     "output_type": "stream",
     "text": [
      "/anaconda3/lib/python3.6/site-packages/IPython/core/interactiveshell.py:3020: DtypeWarning: Columns (21,23,24) have mixed types. Specify dtype option on import or set low_memory=False.\n",
      "  interactivity=interactivity, compiler=compiler, result=result)\n"
     ]
    }
   ],
   "source": [
    "secondary_col_meta = pd.read_csv(\n",
    "    \"raw/depmap/secondary-screen-public-tentative_v3-secondary-merged-replicate-col-meta.csv\")\n",
    "\n",
    "secondary_row_meta = pd.read_csv(\n",
    "    \"raw/depmap/secondary-screen-public-tentative_v3-secondary-merged-row-meta.csv\")\n",
    "\n",
    "secondary_name_map = dict(zip(secondary_row_meta[\"feature_id\"],secondary_row_meta[\"depmap_id\"]))\n",
    "\n",
    "secondary_median = pd.read_csv(\n",
    "    \"raw/depmap/secondary-screen-public-tentative_v3-secondary-merged-median-lfcvc-cb.csv\",index_col=0)\n",
    "secondary_mad = pd.read_csv(\n",
    "    \"raw/depmap/secondary-screen-public-tentative_v3-secondary-merged-mad-lfcvc-cb.csv\",index_col=0)\n",
    "\n",
    "secondary_median.index = secondary_median.index.map(lambda x: secondary_name_map[x])\n",
    "secondary_mad.index = secondary_mad.index.map(lambda x: secondary_name_map[x])"
   ]
  },
  {
   "cell_type": "code",
   "execution_count": 41,
   "metadata": {
    "ExecuteTime": {
     "end_time": "2019-03-10T22:29:40.905101Z",
     "start_time": "2019-03-10T22:29:40.418210Z"
    }
   },
   "outputs": [],
   "source": [
    "secondary_median.to_hdf(\n",
    "    \"processed/depmap/secondary-screen-public-tentative_v3-secondary-merged-median-lfcvc-cb.hdf\", key=\"secondary_median\")\n",
    "\n",
    "secondary_mad.to_hdf(\n",
    "    \"processed/depmap/secondary-screen-public-tentative_v3-secondary-merged-mad-lfcvc-cb.hdf\", key=\"secondary_mad\")\n"
   ]
  },
  {
   "cell_type": "markdown",
   "metadata": {},
   "source": [
    "# Copy number"
   ]
  },
  {
   "cell_type": "code",
   "execution_count": 3,
   "metadata": {
    "ExecuteTime": {
     "end_time": "2019-12-20T23:24:02.448404Z",
     "start_time": "2019-12-20T23:23:18.997456Z"
    }
   },
   "outputs": [],
   "source": [
    "copynumber = pd.read_csv(\"raw/depmap/CCLE_gene_cn_19q4_public.csv\",index_col=0)\n",
    "\n",
    "copynumber.to_hdf(\"processed/depmap/CCLE_gene_cn_19q4_public.hdf\",key=\"copynumber\")"
   ]
  },
  {
   "cell_type": "markdown",
   "metadata": {},
   "source": [
    "# MSI"
   ]
  },
  {
   "cell_type": "code",
   "execution_count": 8,
   "metadata": {
    "ExecuteTime": {
     "end_time": "2019-03-12T15:44:00.977803Z",
     "start_time": "2019-03-12T15:44:00.590923Z"
    }
   },
   "outputs": [],
   "source": [
    "is_msi = pd.read_csv(\"raw/depmap/CCLE_MSI.csv\",index_col=1)\n",
    "is_msi = is_msi[is_msi[\"CCLE.MSI.call\"].isin([\"inferred-MSI\",\"inferred-MSS\"])]\n",
    "is_msi[\"MSI\"] = is_msi[\"CCLE.MSI.call\"] == \"inferred-MSI\""
   ]
  },
  {
   "cell_type": "code",
   "execution_count": 10,
   "metadata": {
    "ExecuteTime": {
     "end_time": "2019-03-12T15:44:34.498023Z",
     "start_time": "2019-03-12T15:44:34.447093Z"
    }
   },
   "outputs": [
    {
     "name": "stderr",
     "output_type": "stream",
     "text": [
      "/anaconda3/lib/python3.6/site-packages/pandas/core/generic.py:1996: PerformanceWarning: \n",
      "your performance may suffer as PyTables will pickle object types that it cannot\n",
      "map directly to c-types [inferred_type->mixed,key->block1_values] [items->['CCLE_ID', 'GDSC.msi.call', 'CCLE.MSI.call']]\n",
      "\n",
      "  return pytables.to_hdf(path_or_buf, key, self, **kwargs)\n"
     ]
    }
   ],
   "source": [
    "is_msi.to_hdf(\"processed/depmap/CCLE_MSI.h5\",key=\"is_msi\")"
   ]
  },
  {
   "cell_type": "markdown",
   "metadata": {},
   "source": [
    "# Cell line metadata"
   ]
  },
  {
   "cell_type": "code",
   "execution_count": 13,
   "metadata": {
    "ExecuteTime": {
     "end_time": "2019-05-28T22:15:57.275815Z",
     "start_time": "2019-05-28T22:15:57.220668Z"
    }
   },
   "outputs": [],
   "source": [
    "# metadata = pd.read_csv(\"raw/depmap/sample_info.csv\",index_col=0)\n",
    "metadata = pd.read_csv(\"raw/depmap/sample-info-19q2_v2-achiles-sample-info-full.csv\",index_col=0)\n",
    "\n",
    "metadata[\"display_disease\"] = metadata[\"disease\"].apply(lambda x: x.replace(\"_\",\" \").capitalize())\n",
    "metadata[\"display_disease\"] = metadata[\"display_disease\"].apply(lambda x: \"Unknown\" if x == \" \" else x)\n",
    "\n",
    "metadata.to_csv(\"processed/depmap/sample_info.csv\")"
   ]
  },
  {
   "cell_type": "markdown",
   "metadata": {},
   "source": [
    "# DepMap gene expression"
   ]
  },
  {
   "cell_type": "code",
   "execution_count": 6,
   "metadata": {
    "ExecuteTime": {
     "end_time": "2019-08-22T23:05:44.190441Z",
     "start_time": "2019-08-22T23:05:25.387373Z"
    }
   },
   "outputs": [],
   "source": [
    "depmap_genex = pd.read_csv(\"raw/depmap/CCLE_expression.csv\",index_col=0)\n",
    "\n",
    "depmap_genex.to_hdf(\"processed/depmap/CCLE_expression.h5\",key=\"depmap_genex\")"
   ]
  }
 ],
 "metadata": {
  "kernelspec": {
   "display_name": "Python 3",
   "language": "python",
   "name": "python3"
  },
  "language_info": {
   "codemirror_mode": {
    "name": "ipython",
    "version": 3
   },
   "file_extension": ".py",
   "mimetype": "text/x-python",
   "name": "python",
   "nbconvert_exporter": "python",
   "pygments_lexer": "ipython3",
   "version": "3.7.5"
  },
  "toc": {
   "base_numbering": 1,
   "nav_menu": {},
   "number_sections": true,
   "sideBar": false,
   "skip_h1_title": false,
   "title_cell": "Table of Contents",
   "title_sidebar": "Contents",
   "toc_cell": false,
   "toc_position": {
    "height": "609px",
    "left": "24px",
    "top": "109px",
    "width": "426.656px"
   },
   "toc_section_display": true,
   "toc_window_display": true
  }
 },
 "nbformat": 4,
 "nbformat_minor": 2
}
