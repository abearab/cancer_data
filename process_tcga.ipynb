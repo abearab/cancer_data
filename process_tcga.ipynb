{
 "cells": [
  {
   "cell_type": "code",
   "execution_count": 1,
   "metadata": {
    "ExecuteTime": {
     "end_time": "2020-06-09T17:18:37.870659Z",
     "start_time": "2020-06-09T17:18:37.244193Z"
    }
   },
   "outputs": [],
   "source": [
    "import pandas as pd\n",
    "import numpy as np\n",
    "\n",
    "from collections import Counter\n",
    "\n",
    "from tqdm import tqdm_notebook as tqdm\n",
    "\n",
    "from multiprocessing import Pool"
   ]
  },
  {
   "cell_type": "markdown",
   "metadata": {},
   "source": [
    "# Sample information"
   ]
  },
  {
   "cell_type": "code",
   "execution_count": 3,
   "metadata": {
    "ExecuteTime": {
     "end_time": "2020-05-10T02:51:22.471316Z",
     "start_time": "2020-05-10T02:51:22.079957Z"
    }
   },
   "outputs": [
    {
     "name": "stderr",
     "output_type": "stream",
     "text": [
      "/Users/khu/.local/lib/python3.7/site-packages/pandas/core/generic.py:1996: PerformanceWarning: \n",
      "your performance may suffer as PyTables will pickle object types that it cannot\n",
      "map directly to c-types [inferred_type->mixed,key->block1_values] [items->['sample_type', '_primary_disease', 'abbreviated_disease']]\n",
      "\n",
      "  return pytables.to_hdf(path_or_buf, key, self, **kwargs)\n"
     ]
    }
   ],
   "source": [
    "tcga_sample_info = pd.read_csv(\"raw/TCGA/TCGA_phenotype_denseDataOnlyDownload.tsv.gz\",\n",
    "                               sep=\"\\t\",\n",
    "                               index_col=0\n",
    "                              )\n",
    "\n",
    "tcga_map = {\n",
    "    'acute myeloid leukemia': \"LAML\",\n",
    "    'adrenocortical cancer': \"ACC\",\n",
    "    'bladder urothelial carcinoma': \"BLCA\",\n",
    "    'brain lower grade glioma': \"LGG\",\n",
    "    'breast invasive carcinoma': \"BRCA\",\n",
    "    'cervical & endocervical cancer': \"CESC\",\n",
    "    'cholangiocarcinoma': \"CHOL\",\n",
    "    'colon adenocarcinoma': \"COAD\",\n",
    "    'diffuse large B-cell lymphoma': \"DLBC\",\n",
    "    'esophageal carcinoma': \"ESCA\",\n",
    "    'glioblastoma multiforme': \"GBM\",\n",
    "    'head & neck squamous cell carcinoma': \"HNSC\",\n",
    "    'kidney chromophobe': \"KICH\",\n",
    "    'kidney clear cell carcinoma': \"KIRC\",\n",
    "    'kidney papillary cell carcinoma': \"KIRP\",\n",
    "    'liver hepatocellular carcinoma': \"LIHC\",\n",
    "    'lung adenocarcinoma': \"LUAD\",\n",
    "    'lung squamous cell carcinoma': \"LUSC\",\n",
    "    'mesothelioma': \"MESO\",\n",
    "    'ovarian serous cystadenocarcinoma': \"OV\",\n",
    "    'pancreatic adenocarcinoma': \"PAAD\",\n",
    "    'pheochromocytoma & paraganglioma': \"PCPG\",\n",
    "    'prostate adenocarcinoma': \"PRAD\",\n",
    "    'rectum adenocarcinoma': \"READ\",\n",
    "    'sarcoma': \"SARC\",\n",
    "    'skin cutaneous melanoma': \"SKCM\",\n",
    "    'stomach adenocarcinoma': \"STAD\",\n",
    "    'testicular germ cell tumor': \"TGCT\",\n",
    "    'thymoma': \"THYM\",\n",
    "    'thyroid carcinoma': \"THCA\",\n",
    "    'uterine carcinosarcoma': \"UCS\",\n",
    "    'uterine corpus endometrioid carcinoma': \"UCEC\",\n",
    "    'uveal melanoma': \"UVM\"\n",
    "}\n",
    "\n",
    "tcga_sample_info[\"abbreviated_disease\"] = tcga_sample_info[\"_primary_disease\"].apply(\n",
    "    lambda x: tcga_map[x])\n",
    "\n",
    "\n",
    "tcga_sample_info.to_hdf(\"processed/TCGA/tcga_sample_info.hdf\",key=\"tcga_sample_info\",mode=\"w\")"
   ]
  },
  {
   "cell_type": "markdown",
   "metadata": {},
   "source": [
    "# Mutations"
   ]
  },
  {
   "cell_type": "code",
   "execution_count": 37,
   "metadata": {
    "ExecuteTime": {
     "end_time": "2020-06-09T17:33:28.479372Z",
     "start_time": "2020-06-09T17:33:18.481438Z"
    }
   },
   "outputs": [
    {
     "name": "stderr",
     "output_type": "stream",
     "text": [
      "/Users/khu/anaconda3/envs/default/lib/python3.7/site-packages/pandas/core/generic.py:2505: PerformanceWarning: \n",
      "your performance may suffer as PyTables will pickle object types that it cannot\n",
      "map directly to c-types [inferred_type->mixed,key->block2_values] [items->Index(['sample', 'chr', 'reference', 'alt', 'gene', 'effect',\n",
      "       'Amino_Acid_Change', 'SIFT', 'PolyPhen'],\n",
      "      dtype='object')]\n",
      "\n",
      "  encoding=encoding,\n"
     ]
    }
   ],
   "source": [
    "tcga_muts = pd.read_csv(\"raw/TCGA/mc3.v0.2.8.PUBLIC.xena.gz\",\n",
    "                        sep=\"\\t\"\n",
    "                        )\n",
    "\n",
    "tcga_muts.to_hdf(\"processed/tcga/tcga_muts.hdf\", key=\"tcga_muts\", mode=\"w\")"
   ]
  },
  {
   "cell_type": "markdown",
   "metadata": {},
   "source": [
    "# Binary matrix"
   ]
  },
  {
   "cell_type": "code",
   "execution_count": 38,
   "metadata": {
    "ExecuteTime": {
     "end_time": "2020-06-09T17:33:47.292598Z",
     "start_time": "2020-06-09T17:33:39.408187Z"
    }
   },
   "outputs": [],
   "source": [
    "tcga_muts[\"mut_id\"] = tcga_muts[\"gene\"]+\"_chr\" + \\\n",
    "    tcga_muts[\"chr\"] + \"_\" + \\\n",
    "    tcga_muts[\"start\"].astype(str) + \"_\" + \\\n",
    "    tcga_muts[\"end\"].astype(str) + \"_\" + \\\n",
    "    tcga_muts[\"reference\"] + \"_\" + \\\n",
    "    tcga_muts[\"alt\"]\n",
    "\n",
    "tcga_muts[\"value\"] = 1"
   ]
  },
  {
   "cell_type": "code",
   "execution_count": 50,
   "metadata": {
    "ExecuteTime": {
     "end_time": "2020-06-09T18:02:29.048904Z",
     "start_time": "2020-06-09T18:02:26.380609Z"
    }
   },
   "outputs": [],
   "source": [
    "tcga_mut_counts = Counter(tcga_muts[\"mut_id\"])\n",
    "\n",
    "mut_frequency_cutoff = 5\n",
    "\n",
    "tcga_filtered_muts = tcga_muts[tcga_muts[\"mut_id\"].apply(lambda x: tcga_mut_counts[x]>=mut_frequency_cutoff)]"
   ]
  },
  {
   "cell_type": "code",
   "execution_count": 51,
   "metadata": {
    "ExecuteTime": {
     "end_time": "2020-06-09T18:03:01.165676Z",
     "start_time": "2020-06-09T18:02:55.442309Z"
    }
   },
   "outputs": [],
   "source": [
    "tcga_mut_mat = pd.pivot_table(tcga_filtered_muts, values=\"value\", index=[\n",
    "                            \"sample\"], columns=\"mut_id\", fill_value=0)\n",
    "\n",
    "tcga_mut_mat.dtype = bool\n",
    "\n",
    "tcga_mut_mat.to_hdf(\"processed/tcga/tcga_mut_mat.hdf\", key=\"tcga_mut_mat\", mode=\"w\")"
   ]
  },
  {
   "cell_type": "markdown",
   "metadata": {},
   "source": [
    "# Copy number"
   ]
  },
  {
   "cell_type": "markdown",
   "metadata": {},
   "source": [
    "## Whitelisted"
   ]
  },
  {
   "cell_type": "code",
   "execution_count": null,
   "metadata": {},
   "outputs": [],
   "source": [
    "tcga_cn = pd.read_csv(\"raw/TCGA/broad.mit.edu_PANCAN_Genome_Wide_SNP_6_whitelisted.gene.xena.gz\",\n",
    "                      sep=\"\\t\",\n",
    "                      index_col=0\n",
    "                      )\n",
    "\n",
    "tcga_cn = tcga_cn.T\n",
    "tcga_cn = tcga_cn.astype(np.float32)"
   ]
  },
  {
   "cell_type": "code",
   "execution_count": 70,
   "metadata": {
    "ExecuteTime": {
     "end_time": "2020-06-02T19:18:39.551005Z",
     "start_time": "2020-06-02T19:18:39.342424Z"
    }
   },
   "outputs": [],
   "source": [
    "tcga_cn_info = pd.read_csv(\n",
    "    \"raw/TCGA/hugo_gencode_good_hg19_V24lift37_probemap\", sep=\"\\t\")\n",
    "\n",
    "tcga_cn_info[\"chromStart\"] = tcga_cn_info[\"chromStart\"].astype(str)\n",
    "tcga_cn_info[\"chromEnd\"] = tcga_cn_info[\"chromEnd\"].astype(str)\n",
    "\n",
    "tcga_cn_info[\"format_id\"] = tcga_cn_info[\"gene\"] + \"_\" + tcga_cn_info[\"chrom\"] + \\\n",
    "    \"_\" + tcga_cn_info[\"chromStart\"] + \"_\" + tcga_cn_info[\"chromEnd\"]\n",
    "\n",
    "gene_segment_map = dict(zip(tcga_cn_info[\"gene\"],tcga_cn_info[\"format_id\"]))\n",
    "\n",
    "tcga_cn.columns = [gene_segment_map.get(x,x) for x in tcga_cn.columns]"
   ]
  },
  {
   "cell_type": "code",
   "execution_count": 77,
   "metadata": {
    "ExecuteTime": {
     "end_time": "2020-06-02T19:20:51.003762Z",
     "start_time": "2020-06-02T19:20:34.213895Z"
    }
   },
   "outputs": [],
   "source": [
    "tcga_cn.to_hdf(\n",
    "    \"processed/TCGA/tcga_cn_whitelisted.hdf\", key=\"tcga_cn\", mode=\"w\")"
   ]
  },
  {
   "cell_type": "markdown",
   "metadata": {},
   "source": [
    "## Continuous"
   ]
  },
  {
   "cell_type": "code",
   "execution_count": 34,
   "metadata": {
    "ExecuteTime": {
     "end_time": "2020-06-02T19:00:27.399569Z",
     "start_time": "2020-06-02T19:00:25.804320Z"
    }
   },
   "outputs": [],
   "source": [
    "tcga_cn_cont = pd.read_hdf(\n",
    "    \"processed/TCGA/tcga_cn.hdf\", key=\"tcga_cn\")"
   ]
  },
  {
   "cell_type": "code",
   "execution_count": 4,
   "metadata": {
    "ExecuteTime": {
     "end_time": "2020-05-10T02:53:35.023682Z",
     "start_time": "2020-05-10T02:51:59.776935Z"
    }
   },
   "outputs": [],
   "source": [
    "tcga_cn = pd.read_csv(\"raw/TCGA/Gistic2_CopyNumber_Gistic2_all_data_by_genes.gz\",\n",
    "                      sep=\"\\t\",\n",
    "                      index_col=0\n",
    "                      )\n",
    "\n",
    "tcga_cn = tcga_cn.T\n",
    "tcga_cn = tcga_cn.astype(np.float32)\n",
    "\n",
    "tcga_cn.to_hdf(\n",
    "    \"processed/TCGA/tcga_cn.hdf\", key=\"tcga_cn\", mode=\"w\")"
   ]
  },
  {
   "cell_type": "markdown",
   "metadata": {},
   "source": [
    "## Thresholded"
   ]
  },
  {
   "cell_type": "code",
   "execution_count": 2,
   "metadata": {
    "ExecuteTime": {
     "end_time": "2020-05-13T18:49:25.423117Z",
     "start_time": "2020-05-13T18:47:50.729674Z"
    }
   },
   "outputs": [],
   "source": [
    "tcga_cn_thresholded = pd.read_csv(\"raw/TCGA/Gistic2_CopyNumber_Gistic2_all_thresholded.by_genes.gz\",\n",
    "                                  sep=\"\\t\",\n",
    "                                  index_col=0)\n",
    "\n",
    "tcga_cn_thresholded = tcga_cn_thresholded.T\n",
    "tcga_cn_thresholded = tcga_cn_thresholded.astype(np.float16)\n",
    "tcga_cn_thresholded.to_hdf(\n",
    "    \"processed/TCGA/tcga_cn_thresholded.hdf\", key=\"tcga_cn_thresholded\", mode=\"w\")"
   ]
  },
  {
   "cell_type": "markdown",
   "metadata": {},
   "source": [
    "# Batch effects normalized RNAseq"
   ]
  },
  {
   "cell_type": "code",
   "execution_count": 4,
   "metadata": {
    "ExecuteTime": {
     "end_time": "2020-05-09T16:52:44.831178Z",
     "start_time": "2020-05-09T16:51:26.265087Z"
    }
   },
   "outputs": [],
   "source": [
    "tcga_genex = pd.read_csv(\"raw/TCGA/EB++AdjustPANCAN_IlluminaHiSeq_RNASeqV2.geneExp.xena.gz\",sep=\"\\t\",index_col=0).T\n",
    "tcga_genex = tcga_genex.astype(np.float32)\n",
    "tcga_genex.columns = [tcga_genex.columns[i] + \"_\" + str(i) for i in range(len(tcga_genex.columns))]\n",
    "\n",
    "tcga_genex.to_hdf(\"processed/TCGA/TCGA_genex_norm.h5\",key=\"tcga_genex\",mode=\"w\")"
   ]
  },
  {
   "cell_type": "markdown",
   "metadata": {},
   "source": [
    "# Splicing (Kahles et al.)"
   ]
  },
  {
   "cell_type": "markdown",
   "metadata": {},
   "source": [
    "## Load events"
   ]
  },
  {
   "cell_type": "code",
   "execution_count": 12,
   "metadata": {
    "ExecuteTime": {
     "end_time": "2020-05-09T17:34:08.109631Z",
     "start_time": "2020-05-09T17:34:08.105921Z"
    }
   },
   "outputs": [],
   "source": [
    "from functools import reduce\n",
    "\n",
    "def concat_cols(df, cols, delim):\n",
    "    cols_str = [df[x].astype(str) for x in cols]\n",
    "\n",
    "    return reduce(lambda a, b: a + delim + b, cols_str)"
   ]
  },
  {
   "cell_type": "code",
   "execution_count": 24,
   "metadata": {
    "ExecuteTime": {
     "end_time": "2020-05-09T17:45:24.798657Z",
     "start_time": "2020-05-09T17:45:24.790522Z"
    }
   },
   "outputs": [],
   "source": [
    "def process_splicing(load_path, save_path):\n",
    "\n",
    "    chunk_iterator = pd.read_csv(load_path, sep=\"\\t\", chunksize=1000)\n",
    "\n",
    "    chunk_count = 0\n",
    "\n",
    "    merged = []\n",
    "    \n",
    "    pbar = tqdm()\n",
    "\n",
    "    for chunk in chunk_iterator:\n",
    "\n",
    "        chunk[\"exon_id\"] = concat_cols(chunk,\n",
    "                                       [\n",
    "                                           \"gene_name\",\n",
    "                                           \"event_type\",\n",
    "                                           \"event_chr\",\n",
    "                                           \"event_coordinates\",\n",
    "                                           \"alt_region_coordinates\"\n",
    "                                       ],\n",
    "                                       \"_\"\n",
    "                                       )\n",
    "\n",
    "        chunk = chunk.drop([\"event_id\",\n",
    "                            \"event_type\",\n",
    "                            \"event_chr\",\n",
    "                            \"event_coordinates\",\n",
    "                            \"alt_region_coordinates\",\n",
    "                            \"gene_name\"\n",
    "                            ], axis=1)\n",
    "\n",
    "        chunk = chunk.set_index(\"exon_id\")\n",
    "        chunk = chunk.dropna(axis=0, thresh=len(chunk.columns)/10)\n",
    "\n",
    "        chunk = chunk[chunk.std(axis=1) > 0.025]\n",
    "        chunk = chunk.astype(np.float16)\n",
    "\n",
    "        merged.append(chunk)\n",
    "\n",
    "        chunk_count += 1\n",
    "        \n",
    "        pbar.update(1)\n",
    "        \n",
    "    merged = pd.concat(merged,axis=0)\n",
    "    merged = merged.astype(np.float16)\n",
    "    merged = merged.T\n",
    "    \n",
    "    # remove prefix identifiers from names\n",
    "    merged.index = merged.index.map(lambda x: x.split(\".\")[0])\n",
    "    \n",
    "    merged.to_hdf(save_path,key=\"tcga_splicing\",mode=\"w\")"
   ]
  },
  {
   "cell_type": "code",
   "execution_count": 28,
   "metadata": {
    "ExecuteTime": {
     "end_time": "2020-05-09T17:50:54.653317Z",
     "start_time": "2020-05-09T17:50:54.649865Z"
    }
   },
   "outputs": [],
   "source": [
    "path_pairs = [\n",
    "    [\"raw/TCGA/merge_graphs_alt_3prime_C2.confirmed.txt.gz\",\"processed/TCGA/splicing_a3ss.h5\"],\n",
    "    [\"raw/TCGA/merge_graphs_alt_5prime_C2.confirmed.txt.gz\",\"processed/TCGA/splicing_a5ss.h5\"],\n",
    "    [\"raw/TCGA/merge_graphs_intron_retention_C2.confirmed.txt.gz\",\"processed/TCGA/splicing_ri.h5\"],\n",
    "    [\"raw/TCGA/merge_graphs_exon_skip_C2.confirmed.txt.gz\",\"processed/TCGA/splicing_se.h5\"]\n",
    "]"
   ]
  },
  {
   "cell_type": "code",
   "execution_count": 31,
   "metadata": {
    "ExecuteTime": {
     "end_time": "2020-05-09T18:54:36.170622Z",
     "start_time": "2020-05-09T17:51:09.369718Z"
    }
   },
   "outputs": [
    {
     "name": "stderr",
     "output_type": "stream",
     "text": [
      "/Users/khu/anaconda3/envs/cenv/lib/python3.7/multiprocessing/process.py:99: DtypeWarning: Columns (2) have mixed types. Specify dtype option on import or set low_memory=False.\n",
      "  self._target(*self._args, **self._kwargs)\n",
      "/Users/khu/anaconda3/envs/cenv/lib/python3.7/multiprocessing/process.py:99: DtypeWarning: Columns (2) have mixed types. Specify dtype option on import or set low_memory=False.\n",
      "  self._target(*self._args, **self._kwargs)\n",
      "/Users/khu/anaconda3/envs/cenv/lib/python3.7/multiprocessing/process.py:99: DtypeWarning: Columns (2) have mixed types. Specify dtype option on import or set low_memory=False.\n",
      "  self._target(*self._args, **self._kwargs)\n",
      "/Users/khu/anaconda3/envs/cenv/lib/python3.7/multiprocessing/process.py:99: DtypeWarning: Columns (2) have mixed types. Specify dtype option on import or set low_memory=False.\n",
      "  self._target(*self._args, **self._kwargs)\n",
      "/Users/khu/anaconda3/envs/cenv/lib/python3.7/multiprocessing/process.py:99: DtypeWarning: Columns (2) have mixed types. Specify dtype option on import or set low_memory=False.\n",
      "  self._target(*self._args, **self._kwargs)\n"
     ]
    }
   ],
   "source": [
    "with Pool(processes=4) as pool:\n",
    "    pool.starmap(process_splicing, path_pairs)"
   ]
  },
  {
   "cell_type": "code",
   "execution_count": 3,
   "metadata": {
    "ExecuteTime": {
     "end_time": "2020-05-09T19:37:06.542473Z",
     "start_time": "2020-05-09T19:37:03.854886Z"
    }
   },
   "outputs": [],
   "source": [
    "tcga_a3ss = pd.read_hdf(\"processed/TCGA/splicing_a3ss.h5\",key=\"tcga_splicing\")\n",
    "tcga_a5ss = pd.read_hdf(\"processed/TCGA/splicing_a5ss.h5\",key=\"tcga_splicing\")\n",
    "tcga_ri = pd.read_hdf(\"processed/TCGA/splicing_ri.h5\",key=\"tcga_splicing\")\n",
    "tcga_se = pd.read_hdf(\"processed/TCGA/splicing_se.h5\",key=\"tcga_splicing\")"
   ]
  },
  {
   "cell_type": "markdown",
   "metadata": {},
   "source": [
    "## Merge events"
   ]
  },
  {
   "cell_type": "code",
   "execution_count": 6,
   "metadata": {
    "ExecuteTime": {
     "end_time": "2020-05-13T20:04:28.461521Z",
     "start_time": "2020-05-13T20:04:28.043272Z"
    }
   },
   "outputs": [],
   "source": [
    "t2g = pd.read_csv(\"../MDM4-splicing/data/intermediate/sleuth_diff/ensembl_t2g.csv\")\n",
    "t2g[\"format_gene_id\"] = t2g[\"hgnc_gene\"].fillna(\"\") + \"_\" + t2g[\"ens_gene\"]\n",
    "\n",
    "format_gene_map = dict(zip(t2g[\"ens_gene\"],t2g[\"format_gene_id\"]))"
   ]
  },
  {
   "cell_type": "code",
   "execution_count": 4,
   "metadata": {
    "ExecuteTime": {
     "end_time": "2020-05-09T19:43:04.834437Z",
     "start_time": "2020-05-09T19:42:42.535842Z"
    }
   },
   "outputs": [],
   "source": [
    "tcga_splicing = pd.concat([\n",
    "    tcga_a3ss,\n",
    "    tcga_a5ss,\n",
    "    tcga_ri,\n",
    "    tcga_se\n",
    "],axis=1,join=\"outer\")\n",
    "\n",
    "tcga_splicing.columns = [format_gene_map.get(x.split(\".\")[0],\"unnamed\")+\"_\"+x for x in tcga_splicing.columns]"
   ]
  },
  {
   "cell_type": "code",
   "execution_count": 9,
   "metadata": {
    "ExecuteTime": {
     "end_time": "2020-05-13T20:04:51.917938Z",
     "start_time": "2020-05-13T20:04:42.841288Z"
    }
   },
   "outputs": [],
   "source": [
    "tcga_splicing.to_hdf(\"processed/TCGA/merged.h5\",key=\"tcga_splicing\",mode=\"w\")"
   ]
  }
 ],
 "metadata": {
  "kernelspec": {
   "display_name": "Python 3",
   "language": "python",
   "name": "python3"
  },
  "language_info": {
   "codemirror_mode": {
    "name": "ipython",
    "version": 3
   },
   "file_extension": ".py",
   "mimetype": "text/x-python",
   "name": "python",
   "nbconvert_exporter": "python",
   "pygments_lexer": "ipython3",
   "version": "3.7.7"
  },
  "toc": {
   "base_numbering": 1,
   "nav_menu": {},
   "number_sections": true,
   "sideBar": true,
   "skip_h1_title": false,
   "title_cell": "Table of Contents",
   "title_sidebar": "Contents",
   "toc_cell": false,
   "toc_position": {},
   "toc_section_display": true,
   "toc_window_display": true
  }
 },
 "nbformat": 4,
 "nbformat_minor": 4
}
