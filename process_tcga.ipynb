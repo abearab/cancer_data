{
 "cells": [
  {
   "cell_type": "code",
   "execution_count": 16,
   "metadata": {
    "ExecuteTime": {
     "end_time": "2020-05-09T16:58:25.531861Z",
     "start_time": "2020-05-09T16:58:25.529399Z"
    }
   },
   "outputs": [],
   "source": [
    "import pandas as pd\n",
    "import numpy as np\n",
    "\n",
    "from collections import Counter"
   ]
  },
  {
   "cell_type": "markdown",
   "metadata": {},
   "source": [
    "# Batch effects normalized RNAseq"
   ]
  },
  {
   "cell_type": "code",
   "execution_count": 4,
   "metadata": {
    "ExecuteTime": {
     "end_time": "2020-05-09T16:52:44.831178Z",
     "start_time": "2020-05-09T16:51:26.265087Z"
    }
   },
   "outputs": [],
   "source": [
    "tcga_genex = pd.read_csv(\"raw/TCGA/EB++AdjustPANCAN_IlluminaHiSeq_RNASeqV2.geneExp.xena.gz\",sep=\"\\t\",index_col=0).T\n",
    "tcga_genex = tcga_genex.astype(np.float32)\n",
    "tcga_genex.columns = [tcga_genex.columns[i] + \"_\" + str(i) for i in range(len(tcga_genex.columns))]\n",
    "\n",
    "tcga_genex.to_hdf(\"processed/TCGA_genex_norm.h5\",key=\"tcga_genex\",mode=\"w\")"
   ]
  }
 ],
 "metadata": {
  "kernelspec": {
   "display_name": "Python 3",
   "language": "python",
   "name": "python3"
  },
  "language_info": {
   "codemirror_mode": {
    "name": "ipython",
    "version": 3
   },
   "file_extension": ".py",
   "mimetype": "text/x-python",
   "name": "python",
   "nbconvert_exporter": "python",
   "pygments_lexer": "ipython3",
   "version": "3.7.7"
  },
  "toc": {
   "base_numbering": 1,
   "nav_menu": {},
   "number_sections": true,
   "sideBar": true,
   "skip_h1_title": false,
   "title_cell": "Table of Contents",
   "title_sidebar": "Contents",
   "toc_cell": false,
   "toc_position": {},
   "toc_section_display": true,
   "toc_window_display": false
  }
 },
 "nbformat": 4,
 "nbformat_minor": 4
}
