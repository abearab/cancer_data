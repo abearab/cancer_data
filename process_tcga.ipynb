{
 "cells": [
  {
   "cell_type": "code",
   "execution_count": 2,
   "metadata": {
    "ExecuteTime": {
     "end_time": "2020-05-09T19:37:01.935212Z",
     "start_time": "2020-05-09T19:37:01.441535Z"
    }
   },
   "outputs": [],
   "source": [
    "import pandas as pd\n",
    "import numpy as np\n",
    "\n",
    "from collections import Counter\n",
    "\n",
    "from tqdm import tqdm_notebook as tqdm\n",
    "\n",
    "from multiprocessing import Pool"
   ]
  },
  {
   "cell_type": "markdown",
   "metadata": {},
   "source": [
    "# Batch effects normalized RNAseq"
   ]
  },
  {
   "cell_type": "code",
   "execution_count": 4,
   "metadata": {
    "ExecuteTime": {
     "end_time": "2020-05-09T16:52:44.831178Z",
     "start_time": "2020-05-09T16:51:26.265087Z"
    }
   },
   "outputs": [],
   "source": [
    "tcga_genex = pd.read_csv(\"raw/TCGA/EB++AdjustPANCAN_IlluminaHiSeq_RNASeqV2.geneExp.xena.gz\",sep=\"\\t\",index_col=0).T\n",
    "tcga_genex = tcga_genex.astype(np.float32)\n",
    "tcga_genex.columns = [tcga_genex.columns[i] + \"_\" + str(i) for i in range(len(tcga_genex.columns))]\n",
    "\n",
    "tcga_genex.to_hdf(\"processed/TCGA/TCGA_genex_norm.h5\",key=\"tcga_genex\",mode=\"w\")"
   ]
  },
  {
   "cell_type": "markdown",
   "metadata": {},
   "source": [
    "# Splicing (Kahles et al.)"
   ]
  },
  {
   "cell_type": "code",
   "execution_count": 12,
   "metadata": {
    "ExecuteTime": {
     "end_time": "2020-05-09T17:34:08.109631Z",
     "start_time": "2020-05-09T17:34:08.105921Z"
    }
   },
   "outputs": [],
   "source": [
    "from functools import reduce\n",
    "\n",
    "def concat_cols(df, cols, delim):\n",
    "    cols_str = [df[x].astype(str) for x in cols]\n",
    "\n",
    "    return reduce(lambda a, b: a + delim + b, cols_str)"
   ]
  },
  {
   "cell_type": "code",
   "execution_count": 24,
   "metadata": {
    "ExecuteTime": {
     "end_time": "2020-05-09T17:45:24.798657Z",
     "start_time": "2020-05-09T17:45:24.790522Z"
    }
   },
   "outputs": [],
   "source": [
    "def process_splicing(load_path, save_path):\n",
    "\n",
    "    chunk_iterator = pd.read_csv(load_path, sep=\"\\t\", chunksize=1000)\n",
    "\n",
    "    chunk_count = 0\n",
    "\n",
    "    merged = []\n",
    "    \n",
    "    pbar = tqdm()\n",
    "\n",
    "    for chunk in chunk_iterator:\n",
    "\n",
    "        chunk[\"exon_id\"] = concat_cols(chunk,\n",
    "                                       [\n",
    "                                           \"gene_name\",\n",
    "                                           \"event_type\",\n",
    "                                           \"event_chr\",\n",
    "                                           \"event_coordinates\",\n",
    "                                           \"alt_region_coordinates\"\n",
    "                                       ],\n",
    "                                       \"_\"\n",
    "                                       )\n",
    "\n",
    "        chunk = chunk.drop([\"event_id\",\n",
    "                            \"event_type\",\n",
    "                            \"event_chr\",\n",
    "                            \"event_coordinates\",\n",
    "                            \"alt_region_coordinates\",\n",
    "                            \"gene_name\"\n",
    "                            ], axis=1)\n",
    "\n",
    "        chunk = chunk.set_index(\"exon_id\")\n",
    "        chunk = chunk.dropna(axis=0, thresh=len(chunk.columns)/10)\n",
    "\n",
    "        chunk = chunk[chunk.std(axis=1) > 0.025]\n",
    "        chunk = chunk.astype(np.float16)\n",
    "\n",
    "        merged.append(chunk)\n",
    "\n",
    "        chunk_count += 1\n",
    "        \n",
    "        pbar.update(1)\n",
    "        \n",
    "    merged = pd.concat(merged,axis=0)\n",
    "    merged = merged.astype(np.float16)\n",
    "    merged = merged.T\n",
    "    \n",
    "    # remove prefix identifiers from names\n",
    "    merged.index = merged.index.map(lambda x: x.split(\".\")[0])\n",
    "    \n",
    "    merged.to_hdf(save_path,key=\"tcga_splicing\",mode=\"w\")"
   ]
  },
  {
   "cell_type": "code",
   "execution_count": 28,
   "metadata": {
    "ExecuteTime": {
     "end_time": "2020-05-09T17:50:54.653317Z",
     "start_time": "2020-05-09T17:50:54.649865Z"
    }
   },
   "outputs": [],
   "source": [
    "path_pairs = [\n",
    "    [\"raw/TCGA/merge_graphs_alt_3prime_C2.confirmed.txt.gz\",\"processed/TCGA/splicing_a3ss.h5\"],\n",
    "    [\"raw/TCGA/merge_graphs_alt_5prime_C2.confirmed.txt.gz\",\"processed/TCGA/splicing_a5ss.h5\"],\n",
    "    [\"raw/TCGA/merge_graphs_intron_retention_C2.confirmed.txt.gz\",\"processed/TCGA/splicing_ri.h5\"],\n",
    "    [\"raw/TCGA/merge_graphs_exon_skip_C2.confirmed.txt.gz\",\"processed/TCGA/splicing_se.h5\"]\n",
    "]"
   ]
  },
  {
   "cell_type": "code",
   "execution_count": 31,
   "metadata": {
    "ExecuteTime": {
     "end_time": "2020-05-09T18:54:36.170622Z",
     "start_time": "2020-05-09T17:51:09.369718Z"
    }
   },
   "outputs": [
    {
     "name": "stderr",
     "output_type": "stream",
     "text": [
      "/Users/khu/anaconda3/envs/cenv/lib/python3.7/multiprocessing/process.py:99: DtypeWarning: Columns (2) have mixed types. Specify dtype option on import or set low_memory=False.\n",
      "  self._target(*self._args, **self._kwargs)\n",
      "/Users/khu/anaconda3/envs/cenv/lib/python3.7/multiprocessing/process.py:99: DtypeWarning: Columns (2) have mixed types. Specify dtype option on import or set low_memory=False.\n",
      "  self._target(*self._args, **self._kwargs)\n",
      "/Users/khu/anaconda3/envs/cenv/lib/python3.7/multiprocessing/process.py:99: DtypeWarning: Columns (2) have mixed types. Specify dtype option on import or set low_memory=False.\n",
      "  self._target(*self._args, **self._kwargs)\n",
      "/Users/khu/anaconda3/envs/cenv/lib/python3.7/multiprocessing/process.py:99: DtypeWarning: Columns (2) have mixed types. Specify dtype option on import or set low_memory=False.\n",
      "  self._target(*self._args, **self._kwargs)\n",
      "/Users/khu/anaconda3/envs/cenv/lib/python3.7/multiprocessing/process.py:99: DtypeWarning: Columns (2) have mixed types. Specify dtype option on import or set low_memory=False.\n",
      "  self._target(*self._args, **self._kwargs)\n"
     ]
    }
   ],
   "source": [
    "with Pool(processes=4) as pool:\n",
    "    pool.starmap(process_splicing, path_pairs)"
   ]
  },
  {
   "cell_type": "code",
   "execution_count": 3,
   "metadata": {
    "ExecuteTime": {
     "end_time": "2020-05-09T19:37:06.542473Z",
     "start_time": "2020-05-09T19:37:03.854886Z"
    }
   },
   "outputs": [],
   "source": [
    "tcga_a3ss = pd.read_hdf(\"processed/TCGA/splicing_a3ss.h5\",key=\"tcga_splicing\")\n",
    "tcga_a5ss = pd.read_hdf(\"processed/TCGA/splicing_a5ss.h5\",key=\"tcga_splicing\")\n",
    "tcga_ri = pd.read_hdf(\"processed/TCGA/splicing_ri.h5\",key=\"tcga_splicing\")\n",
    "tcga_se = pd.read_hdf(\"processed/TCGA/splicing_se.h5\",key=\"tcga_splicing\")"
   ]
  },
  {
   "cell_type": "code",
   "execution_count": 4,
   "metadata": {
    "ExecuteTime": {
     "end_time": "2020-05-09T19:43:04.834437Z",
     "start_time": "2020-05-09T19:42:42.535842Z"
    }
   },
   "outputs": [],
   "source": [
    "tcga_splicing = pd.concat([\n",
    "    tcga_a3ss,\n",
    "    tcga_a5ss,\n",
    "    tcga_ri,\n",
    "    tcga_se\n",
    "],axis=1,join=\"outer\")"
   ]
  },
  {
   "cell_type": "code",
   "execution_count": 5,
   "metadata": {
    "ExecuteTime": {
     "end_time": "2020-05-09T19:44:49.273421Z",
     "start_time": "2020-05-09T19:43:23.086562Z"
    }
   },
   "outputs": [],
   "source": [
    "tcga_splicing.to_hdf(\"processed/TCGA/merged.h5\",key=\"tcga_splicing\",mode=\"w\")"
   ]
  }
 ],
 "metadata": {
  "kernelspec": {
   "display_name": "Python 3",
   "language": "python",
   "name": "python3"
  },
  "language_info": {
   "codemirror_mode": {
    "name": "ipython",
    "version": 3
   },
   "file_extension": ".py",
   "mimetype": "text/x-python",
   "name": "python",
   "nbconvert_exporter": "python",
   "pygments_lexer": "ipython3",
   "version": "3.7.7"
  },
  "toc": {
   "base_numbering": 1,
   "nav_menu": {},
   "number_sections": true,
   "sideBar": true,
   "skip_h1_title": false,
   "title_cell": "Table of Contents",
   "title_sidebar": "Contents",
   "toc_cell": false,
   "toc_position": {},
   "toc_section_display": true,
   "toc_window_display": false
  }
 },
 "nbformat": 4,
 "nbformat_minor": 4
}
