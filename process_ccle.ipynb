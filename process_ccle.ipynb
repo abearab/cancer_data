{
 "cells": [
  {
   "cell_type": "code",
   "execution_count": 2,
   "metadata": {
    "ExecuteTime": {
     "end_time": "2020-01-28T04:24:34.737887Z",
     "start_time": "2020-01-28T04:24:34.733652Z"
    }
   },
   "outputs": [],
   "source": [
    "import numpy as np\n",
    "import seaborn as sns\n",
    "import matplotlib.pyplot as plt\n",
    "import pandas as pd\n",
    "\n",
    "from scipy.stats import zscore\n",
    "\n",
    "from collections import Counter, defaultdict\n",
    "\n",
    "import sys\n",
    "import os\n",
    "import re\n",
    "sys.path.append(os.path.relpath(\"../helper\"))\n",
    "\n",
    "import name_mappings\n"
   ]
  },
  {
   "cell_type": "code",
   "execution_count": 7,
   "metadata": {
    "ExecuteTime": {
     "end_time": "2020-01-28T04:24:54.418695Z",
     "start_time": "2020-01-28T04:24:54.408519Z"
    }
   },
   "outputs": [],
   "source": [
    "cell_line_info = pd.read_csv(\"raw/depmap/DepMap-2018q4-celllines.csv\",index_col=0)"
   ]
  },
  {
   "cell_type": "markdown",
   "metadata": {},
   "source": [
    "# Gencode v19 definitions"
   ]
  },
  {
   "cell_type": "code",
   "execution_count": 3,
   "metadata": {
    "ExecuteTime": {
     "end_time": "2019-03-11T01:19:38.552017Z",
     "start_time": "2019-03-11T01:19:34.940030Z"
    }
   },
   "outputs": [
    {
     "name": "stderr",
     "output_type": "stream",
     "text": [
      "/anaconda3/lib/python3.6/site-packages/IPython/core/interactiveshell.py:3020: DtypeWarning: Columns (0) have mixed types. Specify dtype option on import or set low_memory=False.\n",
      "  interactivity=interactivity, compiler=compiler, result=result)\n"
     ]
    }
   ],
   "source": [
    "g19_definitions = pd.read_csv(\"raw/ccle/gencode.v19.genes.v7_model.patched_contigs.gtf\",sep=\"\\t\",skiprows=6,\n",
    "                              names=[\"chrom\",\"source\",\"type\",\"start\",\"end\",\".1\",\"strand\",\".2\",\"info\"])\n",
    "\n",
    "g19_definitions[\"ensembl_gene_id\"] = g19_definitions[\"info\"].apply(\n",
    "    lambda x: x.split(\";\")[0][9:-1])\n",
    "g19_definitions[\"gene_name\"] = g19_definitions[\"info\"].apply(\n",
    "    lambda x: x.split(\"gene_name\")[1].split(\";\")[0][2:-1])\n",
    "g19_definitions[\"ensembl_tx_id\"] = g19_definitions[\"info\"].apply(\n",
    "    lambda x: x.split(\"transcript_id\")[1].split(\";\")[0][2:-1])\n",
    "\n",
    "g19_gene_definitions = g19_definitions[g19_definitions[\"type\"]==\"gene\"]\n",
    "\n",
    "ensembl_id_map = dict(zip(g19_gene_definitions[\"ensembl_gene_id\"],g19_gene_definitions[\"gene_name\"]))\n",
    "ensembl_id_map = defaultdict(str, ensembl_id_map)"
   ]
  },
  {
   "cell_type": "code",
   "execution_count": 9,
   "metadata": {
    "ExecuteTime": {
     "end_time": "2019-03-11T01:20:33.910160Z",
     "start_time": "2019-03-11T01:20:32.626509Z"
    }
   },
   "outputs": [
    {
     "name": "stderr",
     "output_type": "stream",
     "text": [
      "/anaconda3/lib/python3.6/site-packages/pandas/core/generic.py:1996: PerformanceWarning: \n",
      "your performance may suffer as PyTables will pickle object types that it cannot\n",
      "map directly to c-types [inferred_type->mixed-integer,key->block1_values] [items->['chrom', 'source', 'type', '.1', 'strand', '.2', 'info', 'ensembl_gene_id', 'gene_name', 'ensembl_tx_id']]\n",
      "\n",
      "  return pytables.to_hdf(path_or_buf, key, self, **kwargs)\n"
     ]
    }
   ],
   "source": [
    "g19_definitions.to_hdf(\"processed/ccle/gencode.v19.genes.v7_model.patched_contigs.h5\",\n",
    "                       key=\"g19_definitions\",\n",
    "                       mode=\"w\")"
   ]
  },
  {
   "cell_type": "markdown",
   "metadata": {},
   "source": [
    "# Chromatin profiling"
   ]
  },
  {
   "cell_type": "code",
   "execution_count": 55,
   "metadata": {
    "ExecuteTime": {
     "end_time": "2019-03-10T20:17:26.550074Z",
     "start_time": "2019-03-10T20:17:26.519161Z"
    }
   },
   "outputs": [],
   "source": [
    "chromatin_profiling = pd.read_csv(\"raw/ccle/CCLE_GlobalChromatinProfiling_20181130.csv\",index_col=1).iloc[:,1:]\n",
    "chromatin_profiling.to_hdf(\"processed/ccle/CCLE_GlobalChromatinProfiling_20181130.hdf\",\n",
    "                           key=\"chromatin_profiling\",\n",
    "                           mode=\"w\")\n"
   ]
  },
  {
   "cell_type": "markdown",
   "metadata": {},
   "source": [
    "# RPPA"
   ]
  },
  {
   "cell_type": "code",
   "execution_count": 57,
   "metadata": {
    "ExecuteTime": {
     "end_time": "2019-03-10T20:18:03.170615Z",
     "start_time": "2019-03-10T20:18:03.097187Z"
    }
   },
   "outputs": [],
   "source": [
    "rppa = pd.read_csv(\"raw/ccle/CCLE_RPPA_20181003.csv\",index_col=0)\n",
    "rppa.index = rppa.index.map(lambda x: name_mappings.name_map[x])\n",
    "rppa.to_hdf(\"processed/ccle/CCLE_RPPA_20181003.hdf\",\n",
    "            key=\"rppa\",\n",
    "            mode=\"w\")"
   ]
  },
  {
   "cell_type": "markdown",
   "metadata": {},
   "source": [
    "# RNAseq"
   ]
  },
  {
   "cell_type": "markdown",
   "metadata": {},
   "source": [
    "## Exonusage"
   ]
  },
  {
   "cell_type": "code",
   "execution_count": 2,
   "metadata": {
    "ExecuteTime": {
     "end_time": "2019-03-10T18:44:00.070220Z",
     "start_time": "2019-03-10T18:39:27.151798Z"
    }
   },
   "outputs": [
    {
     "name": "stderr",
     "output_type": "stream",
     "text": [
      "/anaconda3/lib/python3.6/site-packages/IPython/core/interactiveshell.py:3020: DtypeWarning: Columns (9,89,101,117,158,251,322,341,556,559,613,817,825,853,900,912,971,984,993) have mixed types. Specify dtype option on import or set low_memory=False.\n",
      "  interactivity=interactivity, compiler=compiler, result=result)\n"
     ]
    }
   ],
   "source": [
    "def reorder_exon(exon):\n",
    "    exon_split = exon.split(\"_\")\n",
    "    return \"_\".join(exon_split[3:]) + \"_\" + \"_\".join(exon_split[:3])\n",
    "\n",
    "exonusage = pd.read_csv(\"raw/ccle/CCLE_RNAseq_ExonUsageRatio_20180929.gct\",skiprows=2,index_col=0,sep=\"\\t\")\n",
    "exonusage.index = exonusage.index.map(lambda x:reorder_exon(x))"
   ]
  },
  {
   "cell_type": "code",
   "execution_count": 13,
   "metadata": {
    "ExecuteTime": {
     "end_time": "2019-03-10T19:33:59.341070Z",
     "start_time": "2019-03-10T19:25:12.855300Z"
    }
   },
   "outputs": [],
   "source": [
    "exonusage[exonusage==\"\\tNA\"] = np.nan\n",
    "exonusage[exonusage==\"    NA\"] = np.nan\n",
    "exonusage[exonusage==\"     NA\"] = np.nan\n",
    "exonusage = exonusage.astype(float)"
   ]
  },
  {
   "cell_type": "code",
   "execution_count": 3,
   "metadata": {
    "ExecuteTime": {
     "end_time": "2019-03-10T18:46:53.700591Z",
     "start_time": "2019-03-10T18:44:00.087222Z"
    }
   },
   "outputs": [],
   "source": [
    "exon_ids = pd.Series(exonusage.index,index=exonusage.index) + \"_\" + pd.Series(exonusage[\"gene_id\"])\n",
    "exonusage = exonusage.set_index(exon_ids).iloc[:,1:]\n",
    "exonusage = exonusage.T\n",
    "exonusage.index = exonusage.index.map(lambda x: name_mappings.name_map[x])"
   ]
  },
  {
   "cell_type": "code",
   "execution_count": null,
   "metadata": {},
   "outputs": [],
   "source": [
    "exonusage_nans = exonusage.isna().sum(axis=0)\n",
    "sns.distplot(exonusage_nans)\n",
    "exonusage = exonusage[exonusage.columns[exonusage_nans<800]]"
   ]
  },
  {
   "cell_type": "code",
   "execution_count": 26,
   "metadata": {
    "ExecuteTime": {
     "end_time": "2019-03-10T20:10:19.462291Z",
     "start_time": "2019-03-10T20:10:15.691425Z"
    }
   },
   "outputs": [],
   "source": [
    "exonusage_stdevs = exonusage.std(axis=0)\n",
    "sns.distplot(exonusage_stdevs)\n",
    "exonusage = exonusage[exonusage.columns[exonusage_stdevs>0.1]]"
   ]
  },
  {
   "cell_type": "code",
   "execution_count": 53,
   "metadata": {
    "ExecuteTime": {
     "end_time": "2019-03-10T20:16:21.971346Z",
     "start_time": "2019-03-10T20:16:17.840659Z"
    }
   },
   "outputs": [],
   "source": [
    "exonusage.to_hdf(\"processed/ccle/CCLE_RNAseq_ExonUsageRatio_20180929.hdf\",\n",
    "                 key=\"exonusage\",\n",
    "                 mode=\"w\")"
   ]
  },
  {
   "cell_type": "markdown",
   "metadata": {},
   "source": [
    "## Intron retention"
   ]
  },
  {
   "cell_type": "code",
   "execution_count": 2,
   "metadata": {
    "ExecuteTime": {
     "end_time": "2019-04-09T19:09:54.296346Z",
     "start_time": "2019-04-09T18:25:14.930946Z"
    }
   },
   "outputs": [],
   "source": [
    "intronret = pd.read_csv(\"raw/ccle/CCLE_intron_retention.csv\",index_col=0)\n",
    "intronret.columns = [\"_\".join(x.split(\";\")[::-1]) for x in intronret.columns]\n",
    "intronret.index = intronret.index.map(lambda x: name_mappings.name_map[x])"
   ]
  },
  {
   "cell_type": "code",
   "execution_count": 37,
   "metadata": {
    "ExecuteTime": {
     "end_time": "2019-04-09T19:28:48.921117Z",
     "start_time": "2019-04-09T19:28:40.942171Z"
    }
   },
   "outputs": [
    {
     "data": {
      "image/png": "[encoded data removed]",
      "text/plain": [
       "<Figure size 432x288 with 1 Axes>"
      ]
     },
     "metadata": {
      "needs_background": "light"
     },
     "output_type": "display_data"
    }
   ],
   "source": [
    "intronret_nans = intronret.isna().sum(axis=0)\n",
    "sns.distplot(intronret_nans)\n",
    "intronret = intronret[intronret.columns[intronret_nans<800]]"
   ]
  },
  {
   "cell_type": "code",
   "execution_count": 50,
   "metadata": {
    "ExecuteTime": {
     "end_time": "2019-04-09T19:31:52.123745Z",
     "start_time": "2019-04-09T19:31:51.255539Z"
    }
   },
   "outputs": [
    {
     "data": {
      "image/png": "[encoded data removed]",
      "text/plain": [
       "<Figure size 432x288 with 1 Axes>"
      ]
     },
     "metadata": {
      "needs_background": "light"
     },
     "output_type": "display_data"
    }
   ],
   "source": [
    "intronret_stdevs = intronret.std(axis=0)\n",
    "sns.distplot(intronret_stdevs)\n",
    "intronret = intronret[intronret.columns[intronret_stdevs>0.1]]"
   ]
  },
  {
   "cell_type": "code",
   "execution_count": 53,
   "metadata": {
    "ExecuteTime": {
     "end_time": "2019-04-09T19:32:27.105154Z",
     "start_time": "2019-04-09T19:32:25.949587Z"
    }
   },
   "outputs": [],
   "source": [
    "intronret.to_hdf(\"processed/ccle/CCLE_intron_retention.hdf\",\n",
    "                 key=\"intronret\",\n",
    "                 mode=\"w\")"
   ]
  },
  {
   "cell_type": "markdown",
   "metadata": {},
   "source": [
    "## Transcript expression"
   ]
  },
  {
   "cell_type": "code",
   "execution_count": 58,
   "metadata": {
    "ExecuteTime": {
     "end_time": "2019-03-10T20:21:26.084617Z",
     "start_time": "2019-03-10T20:20:26.918363Z"
    }
   },
   "outputs": [],
   "source": [
    "ccle_transcripts = pd.read_csv(\"raw/ccle/CCLE_RNAseq_rsem_transcripts_tpm_20180929.txt\",sep=\"\\t\",index_col=1)\n",
    "ccle_transcripts[\"gene_id\"] = ccle_transcripts[\"gene_id\"].apply(lambda x: ensembl_id_map[x])\n"
   ]
  },
  {
   "cell_type": "code",
   "execution_count": 78,
   "metadata": {
    "ExecuteTime": {
     "end_time": "2019-03-10T20:29:12.957168Z",
     "start_time": "2019-03-10T20:29:11.775553Z"
    }
   },
   "outputs": [],
   "source": [
    "gene_transcript_ids = ccle_transcripts[\"gene_id\"] + \"_\" + pd.Series(ccle_transcripts.index,index=ccle_transcripts.index)\n",
    "ccle_transcripts = ccle_transcripts.set_index(gene_transcript_ids)"
   ]
  },
  {
   "cell_type": "code",
   "execution_count": 80,
   "metadata": {
    "ExecuteTime": {
     "end_time": "2019-03-10T20:29:25.819992Z",
     "start_time": "2019-03-10T20:29:24.739267Z"
    }
   },
   "outputs": [],
   "source": [
    "ccle_transcripts = ccle_transcripts.iloc[:,1:]\n",
    "ccle_transcripts = np.log2(ccle_transcripts+1)\n",
    "ccle_transcripts = ccle_transcripts.T\n",
    "ccle_transcripts.index = ccle_transcripts.index.map(lambda x: name_mappings.name_map[x])"
   ]
  },
  {
   "cell_type": "code",
   "execution_count": 95,
   "metadata": {
    "ExecuteTime": {
     "end_time": "2019-03-10T20:35:10.484542Z",
     "start_time": "2019-03-10T20:35:08.453139Z"
    }
   },
   "outputs": [],
   "source": [
    "ccle_transcript_stdevs = ccle_transcripts.std(axis=0)\n",
    "sns.distplot(ccle_transcript_stdevs)\n",
    "ccle_transcripts = ccle_transcripts[ccle_transcripts.columns[ccle_transcript_stdevs>0.25]]"
   ]
  },
  {
   "cell_type": "code",
   "execution_count": 104,
   "metadata": {
    "ExecuteTime": {
     "end_time": "2019-03-10T20:38:08.512250Z",
     "start_time": "2019-03-10T20:38:07.104766Z"
    }
   },
   "outputs": [],
   "source": [
    "ccle_transcripts.to_hdf(\"processed/ccle/CCLE_RNAseq_rsem_transcripts_tpm_20180929.hdf\",\n",
    "                        key=\"ccle_transcripts\",\n",
    "                        mode=\"w\")"
   ]
  },
  {
   "cell_type": "markdown",
   "metadata": {},
   "source": [
    "## Gene expression"
   ]
  },
  {
   "cell_type": "code",
   "execution_count": 106,
   "metadata": {
    "ExecuteTime": {
     "end_time": "2019-03-10T20:40:33.353945Z",
     "start_time": "2019-03-10T20:40:17.025469Z"
    }
   },
   "outputs": [],
   "source": [
    "ccle_genex = pd.read_csv(\"raw/ccle/CCLE_RNAseq_rsem_genes_tpm_20180929.txt\",sep=\"\\t\",index_col=0)\n",
    "\n",
    "ccle_genex = ccle_genex.iloc[:,1:]\n",
    "ccle_gene_names = ccle_genex.index.map(lambda x: ensembl_id_map[x])\n",
    "gene_names_ids = ccle_gene_names + \"_\" + pd.Series(ccle_genex.index,index=ccle_genex.index)\n",
    "ccle_genex = ccle_genex.set_index(gene_names_ids)\n",
    "ccle_genex = np.log2(ccle_genex+1)\n",
    "ccle_genex = ccle_genex.T\n",
    "ccle_genex.index = ccle_genex.index.map(lambda x: name_mappings.name_map[x])"
   ]
  },
  {
   "cell_type": "code",
   "execution_count": 116,
   "metadata": {
    "ExecuteTime": {
     "end_time": "2019-03-10T20:46:00.796745Z",
     "start_time": "2019-03-10T20:45:59.733214Z"
    }
   },
   "outputs": [],
   "source": [
    "ccle_genex.to_hdf(\"processed/ccle/CCLE_RNAseq_rsem_genes_tpm_20180929.hdf\",\n",
    "                  key=\"ccle_genex\",\n",
    "                  mode=\"w\")"
   ]
  },
  {
   "cell_type": "markdown",
   "metadata": {},
   "source": [
    "## RPKM expression"
   ]
  },
  {
   "cell_type": "code",
   "execution_count": 4,
   "metadata": {
    "ExecuteTime": {
     "end_time": "2019-08-21T20:08:13.233106Z",
     "start_time": "2019-08-21T20:08:02.512488Z"
    }
   },
   "outputs": [],
   "source": [
    "ccle_genex = pd.read_csv(\"raw/ccle/CCLE_RNAseq_genes_rpkm_20180929.gct\",sep=\"\\t\",index_col=0,skiprows=2)\n",
    "\n",
    "gene_names_ids = ccle_genex[\"Description\"] + \"_\" + ccle_genex.index\n",
    "ccle_genex = ccle_genex.iloc[:,1:]\n",
    "ccle_genex = ccle_genex.set_index(gene_names_ids)\n",
    "ccle_genex = np.log2(ccle_genex+1)\n",
    "ccle_genex = ccle_genex.T\n",
    "ccle_genex.index = ccle_genex.index.map(lambda x: name_mappings.name_map[x])"
   ]
  },
  {
   "cell_type": "code",
   "execution_count": 8,
   "metadata": {
    "ExecuteTime": {
     "end_time": "2019-08-21T20:09:44.944649Z",
     "start_time": "2019-08-21T20:09:43.074057Z"
    }
   },
   "outputs": [],
   "source": [
    "ccle_genex.to_hdf(\"processed/ccle/CCLE_RNAseq_genes_rpkm_20180929.hdf\",\n",
    "                  key=\"ccle_genex\",\n",
    "                  mode=\"w\")"
   ]
  },
  {
   "cell_type": "markdown",
   "metadata": {},
   "source": [
    "## ssGSEA"
   ]
  },
  {
   "cell_type": "code",
   "execution_count": 7,
   "metadata": {
    "ExecuteTime": {
     "end_time": "2019-04-30T17:22:49.147554Z",
     "start_time": "2019-04-30T17:22:49.144251Z"
    }
   },
   "outputs": [],
   "source": [
    "name_map = dict(zip(cell_line_info[\"CCLE_Name\"],cell_line_info.index))"
   ]
  },
  {
   "cell_type": "code",
   "execution_count": 23,
   "metadata": {
    "ExecuteTime": {
     "end_time": "2019-04-30T17:24:59.982983Z",
     "start_time": "2019-04-30T17:24:57.227782Z"
    }
   },
   "outputs": [],
   "source": [
    "ssgsea = pd.read_csv(\"raw/ccle/GSEA_RNAseq.csv\",index_col=0)\n",
    "ssgsea = ssgsea[ssgsea.index.isin(name_map.keys())]\n",
    "ssgsea.index = ssgsea.index.map(lambda x: name_map[x])\n",
    "ssgsea = ssgsea.dropna(thresh=50,axis=0)"
   ]
  },
  {
   "cell_type": "code",
   "execution_count": 28,
   "metadata": {
    "ExecuteTime": {
     "end_time": "2019-04-30T17:25:59.997235Z",
     "start_time": "2019-04-30T17:25:59.311371Z"
    }
   },
   "outputs": [],
   "source": [
    "ssgsea.to_hdf(\"processed/ccle/GSEA_RNAseq.hdf\",\n",
    "              key=\"ssgsea\",\n",
    "              mode=\"w\")"
   ]
  },
  {
   "cell_type": "markdown",
   "metadata": {
    "ExecuteTime": {
     "end_time": "2019-03-10T20:45:12.126007Z",
     "start_time": "2019-03-10T20:45:12.122427Z"
    }
   },
   "source": [
    "# RRBS"
   ]
  },
  {
   "cell_type": "markdown",
   "metadata": {},
   "source": [
    "## CpG islands"
   ]
  },
  {
   "cell_type": "code",
   "execution_count": 38,
   "metadata": {
    "ExecuteTime": {
     "end_time": "2019-10-29T20:35:26.107497Z",
     "start_time": "2019-10-29T20:34:54.518412Z"
    }
   },
   "outputs": [
    {
     "name": "stderr",
     "output_type": "stream",
     "text": [
      "/Users/khu/anaconda3/envs/cenv/lib/python3.7/site-packages/IPython/core/interactiveshell.py:3058: DtypeWarning: Columns (2) have mixed types. Specify dtype option on import or set low_memory=False.\n",
      "  interactivity=interactivity, compiler=compiler, result=result)\n"
     ]
    }
   ],
   "source": [
    "cgi_meth = pd.read_csv(\"raw/ccle/CCLE_RRBS_cgi_CpG_clusters_20181119.txt\",sep=\"\\t\",index_col=0)\n",
    "cgi_meth = cgi_meth.iloc[:-1]\n",
    "cgi_meth[\"cluster_pos\"] = cgi_meth.index\n",
    "cgi_meth['cluster_n'] = cgi_meth.groupby('cluster_pos').cumcount()+1\n",
    "cgi_meth.index = cgi_meth[\"cluster_pos\"].astype(str) + \"-\" + cgi_meth[\"cluster_n\"].astype(str)\n",
    "\n",
    "cgi_meth = cgi_meth.iloc[:,2:-2]\n",
    "cgi_meth = cgi_meth.T\n",
    "cgi_meth = cgi_meth.astype(np.float32)\n",
    "cgi_meth.index = cgi_meth.index.map(lambda x: name_mappings.name_map[x])"
   ]
  },
  {
   "cell_type": "code",
   "execution_count": 55,
   "metadata": {
    "ExecuteTime": {
     "end_time": "2019-10-29T20:44:49.929761Z",
     "start_time": "2019-10-29T20:44:46.810222Z"
    }
   },
   "outputs": [
    {
     "data": {
      "image/png": "[encoded data removed]",
      "text/plain": [
       "<Figure size 432x288 with 1 Axes>"
      ]
     },
     "metadata": {
      "needs_background": "light"
     },
     "output_type": "display_data"
    }
   ],
   "source": [
    "cgi_meth_stds = cgi_meth.std(axis=0)\n",
    "sns.distplot(cgi_meth_stds)\n",
    "cgi_meth = cgi_meth[cgi_meth.columns[cgi_meth_stds>0.05]]"
   ]
  },
  {
   "cell_type": "code",
   "execution_count": 56,
   "metadata": {
    "ExecuteTime": {
     "end_time": "2019-10-29T20:44:57.757909Z",
     "start_time": "2019-10-29T20:44:52.956153Z"
    }
   },
   "outputs": [],
   "source": [
    "cgi_meth.to_hdf(\"processed/ccle/CCLE_RRBS_cgi_CpG_clusters_20181119.hdf\",\n",
    "                key=\"cgi_meth\",\n",
    "                mode=\"w\")"
   ]
  },
  {
   "cell_type": "markdown",
   "metadata": {},
   "source": [
    "## Enhancers"
   ]
  },
  {
   "cell_type": "code",
   "execution_count": 29,
   "metadata": {
    "ExecuteTime": {
     "end_time": "2019-03-12T21:02:16.321125Z",
     "start_time": "2019-03-12T21:02:15.763441Z"
    }
   },
   "outputs": [],
   "source": [
    "enh_meth = pd.read_csv(\"raw/ccle/CCLE_RRBS_enh_CpG_clusters_20181119.txt\",sep=\"\\t\",index_col=0)\n",
    "enh_meth.index = enh_meth.index + \"_\" + enh_meth.groupby(level=0).cumcount().astype(str)\n",
    "\n",
    "enh_meth = enh_meth.iloc[:,2:]\n",
    "enh_meth.index = enh_meth.index.map(lambda x: x.replace(\"_\",\"-\"))+\"_enh\"\n",
    "enh_meth = enh_meth.T\n",
    "enh_meth.index = enh_meth.index.map(lambda x: name_mappings.name_map[x])"
   ]
  },
  {
   "cell_type": "code",
   "execution_count": 31,
   "metadata": {
    "ExecuteTime": {
     "end_time": "2019-03-12T21:02:26.531429Z",
     "start_time": "2019-03-12T21:02:25.876578Z"
    }
   },
   "outputs": [],
   "source": [
    "enh_meth[enh_meth==\"\\tNA\"] = np.nan\n",
    "enh_meth[enh_meth==\"    NA\"] = np.nan\n",
    "enh_meth[enh_meth==\"     NA\"] = np.nan\n",
    "enh_meth = enh_meth.astype(float)"
   ]
  },
  {
   "cell_type": "code",
   "execution_count": 32,
   "metadata": {
    "ExecuteTime": {
     "end_time": "2019-03-12T21:02:27.348371Z",
     "start_time": "2019-03-12T21:02:27.147720Z"
    }
   },
   "outputs": [
    {
     "name": "stderr",
     "output_type": "stream",
     "text": [
      "/anaconda3/lib/python3.6/site-packages/scipy/stats/stats.py:1713: FutureWarning: Using a non-tuple sequence for multidimensional indexing is deprecated; use `arr[tuple(seq)]` instead of `arr[seq]`. In the future this will be interpreted as an array index, `arr[np.array(seq)]`, which will result either in an error or a different result.\n",
      "  return np.add.reduce(sorted[indexer] * weights, axis=axis) / sumval\n"
     ]
    },
    {
     "data": {
      "image/png": "[encoded data removed]",
      "text/plain": [
       "<Figure size 432x288 with 1 Axes>"
      ]
     },
     "metadata": {
      "needs_background": "light"
     },
     "output_type": "display_data"
    }
   ],
   "source": [
    "enh_meth_stds = enh_meth.std(axis=0)\n",
    "sns.distplot(enh_meth_stds)\n",
    "enh_meth = enh_meth[enh_meth.columns[enh_meth_stds>0.05]]"
   ]
  },
  {
   "cell_type": "code",
   "execution_count": 33,
   "metadata": {
    "ExecuteTime": {
     "end_time": "2019-03-12T21:02:29.161835Z",
     "start_time": "2019-03-12T21:02:29.116205Z"
    }
   },
   "outputs": [],
   "source": [
    "enh_meth.to_hdf(\"processed/ccle/CCLE_RRBS_enh_CpG_clusters_20181119.hdf\",\n",
    "                key=\"enh_meth\",\n",
    "                mode=\"w\")"
   ]
  },
  {
   "cell_type": "markdown",
   "metadata": {},
   "source": [
    "## TSS 1kb"
   ]
  },
  {
   "cell_type": "code",
   "execution_count": 21,
   "metadata": {
    "ExecuteTime": {
     "end_time": "2019-03-12T05:20:28.767798Z",
     "start_time": "2019-03-12T05:20:19.994615Z"
    }
   },
   "outputs": [
    {
     "name": "stderr",
     "output_type": "stream",
     "text": [
      "/anaconda3/lib/python3.6/site-packages/IPython/core/interactiveshell.py:3020: DtypeWarning: Columns (2,618) have mixed types. Specify dtype option on import or set low_memory=False.\n",
      "  interactivity=interactivity, compiler=compiler, result=result)\n"
     ]
    }
   ],
   "source": [
    "tss1kb_meth = pd.read_csv(\"raw/ccle/CCLE_RRBS_TSS1kb_20181022.txt\",sep=\"\\t\",index_col=0)\n",
    "tss1kb_meth = tss1kb_meth.iloc[:-1,2:]\n",
    "tss1kb_meth = tss1kb_meth.T\n",
    "tss1kb_meth.index = tss1kb_meth.index.map(lambda x: name_mappings.name_map[x])"
   ]
  },
  {
   "cell_type": "code",
   "execution_count": 22,
   "metadata": {
    "ExecuteTime": {
     "end_time": "2019-03-12T05:20:41.785337Z",
     "start_time": "2019-03-12T05:20:28.770664Z"
    }
   },
   "outputs": [],
   "source": [
    "tss1kb_meth[tss1kb_meth==\"\\tNA\"] = np.nan\n",
    "tss1kb_meth[tss1kb_meth==\"    NA\"] = np.nan\n",
    "tss1kb_meth[tss1kb_meth==\"     NA\"] = np.nan\n",
    "tss1kb_meth = tss1kb_meth.astype(float)"
   ]
  },
  {
   "cell_type": "code",
   "execution_count": 23,
   "metadata": {
    "ExecuteTime": {
     "end_time": "2019-03-12T05:20:42.314801Z",
     "start_time": "2019-03-12T05:20:41.790861Z"
    }
   },
   "outputs": [
    {
     "name": "stderr",
     "output_type": "stream",
     "text": [
      "/anaconda3/lib/python3.6/site-packages/scipy/stats/stats.py:1713: FutureWarning: Using a non-tuple sequence for multidimensional indexing is deprecated; use `arr[tuple(seq)]` instead of `arr[seq]`. In the future this will be interpreted as an array index, `arr[np.array(seq)]`, which will result either in an error or a different result.\n",
      "  return np.add.reduce(sorted[indexer] * weights, axis=axis) / sumval\n"
     ]
    },
    {
     "data": {
      "image/png": "[encoded data removed]",
      "text/plain": [
       "<Figure size 432x288 with 1 Axes>"
      ]
     },
     "metadata": {
      "needs_background": "light"
     },
     "output_type": "display_data"
    }
   ],
   "source": [
    "tss1kb_meth_stds = tss1kb_meth.std(axis=0)\n",
    "sns.distplot(tss1kb_meth_stds)\n",
    "tss1kb_meth = tss1kb_meth[tss1kb_meth.columns[tss1kb_meth_stds>0.05]]"
   ]
  },
  {
   "cell_type": "code",
   "execution_count": 24,
   "metadata": {
    "ExecuteTime": {
     "end_time": "2019-03-12T05:20:42.991666Z",
     "start_time": "2019-03-12T05:20:42.319432Z"
    }
   },
   "outputs": [],
   "source": [
    "tss1kb_meth.to_hdf(\"processed/ccle/CCLE_RRBS_TSS1kb_20181022.hdf\",\n",
    "                   key=\"tss1kb_meth\",\n",
    "                   mode=\"w\"\n",
    "                  )"
   ]
  },
  {
   "cell_type": "markdown",
   "metadata": {},
   "source": [
    "## TSS clusters"
   ]
  },
  {
   "cell_type": "code",
   "execution_count": 133,
   "metadata": {
    "ExecuteTime": {
     "end_time": "2019-03-10T21:32:13.595397Z",
     "start_time": "2019-03-10T21:31:49.357413Z"
    }
   },
   "outputs": [],
   "source": [
    "tssclust_meth = pd.read_csv(\"raw/ccle/CCLE_RRBS_tss_CpG_clusters_20181022.txt\",sep=\"\\t\",index_col=0)\n",
    "tssclust_meth = tssclust_meth.iloc[:-1,2:]\n",
    "tssclust_meth = tssclust_meth.T\n",
    "tssclust_meth.index = tssclust_meth.index.map(lambda x: name_mappings.name_map[x])"
   ]
  },
  {
   "cell_type": "code",
   "execution_count": 144,
   "metadata": {
    "ExecuteTime": {
     "end_time": "2019-03-10T21:38:01.487854Z",
     "start_time": "2019-03-10T21:37:26.135204Z"
    }
   },
   "outputs": [],
   "source": [
    "tssclust_meth[tssclust_meth==\"\\tNA\"] = np.nan\n",
    "tssclust_meth[tssclust_meth==\"    NA\"] = np.nan\n",
    "tssclust_meth[tssclust_meth==\"     NA\"] = np.nan\n",
    "tssclust_meth = tssclust_meth.astype(float)"
   ]
  },
  {
   "cell_type": "code",
   "execution_count": 150,
   "metadata": {
    "ExecuteTime": {
     "end_time": "2019-03-10T21:39:22.177548Z",
     "start_time": "2019-03-10T21:39:21.587523Z"
    }
   },
   "outputs": [
    {
     "data": {
      "image/png": "[encoded data removed]",
      "text/plain": [
       "<Figure size 432x288 with 1 Axes>"
      ]
     },
     "metadata": {
      "needs_background": "light"
     },
     "output_type": "display_data"
    }
   ],
   "source": [
    "tssclust_meth_stds = tssclust_meth.std(axis=0)\n",
    "sns.distplot(tssclust_meth_stds)\n",
    "tssclust_meth = tssclust_meth[tssclust_meth.columns[tssclust_meth_stds>0.05]]"
   ]
  },
  {
   "cell_type": "code",
   "execution_count": 158,
   "metadata": {
    "ExecuteTime": {
     "end_time": "2019-03-10T21:41:21.732590Z",
     "start_time": "2019-03-10T21:41:19.910476Z"
    }
   },
   "outputs": [],
   "source": [
    "tssclust_meth.to_hdf(\"processed/ccle/CCLE_RRBS_tss_CpG_clusters_20181022.hdf\",key=\"tssclust_meth\")"
   ]
  },
  {
   "cell_type": "markdown",
   "metadata": {},
   "source": [
    "# miRNA"
   ]
  },
  {
   "cell_type": "code",
   "execution_count": 19,
   "metadata": {
    "ExecuteTime": {
     "end_time": "2019-03-12T04:59:35.762650Z",
     "start_time": "2019-03-12T04:59:35.193956Z"
    }
   },
   "outputs": [],
   "source": [
    "mirna = pd.read_csv(\"raw/ccle/CCLE_miRNA_20181103.gct.txt\",sep=\"\\t\",skiprows=2)\n",
    "mirna.index = mirna[\"Description\"] + \"_\" + mirna[\"Name\"].apply(lambda x: x[1:])\n",
    "\n",
    "mirna = mirna.iloc[:,2:]\n",
    "mirna = np.log2(mirna.T)\n",
    "\n",
    "mirna.index = mirna.index.map(lambda x: name_mappings.name_map[x])"
   ]
  },
  {
   "cell_type": "code",
   "execution_count": 20,
   "metadata": {
    "ExecuteTime": {
     "end_time": "2019-03-12T04:59:36.707152Z",
     "start_time": "2019-03-12T04:59:36.652771Z"
    }
   },
   "outputs": [],
   "source": [
    "mirna.to_hdf(\"processed/ccle/CCLE_miRNA_20181103.hdf\", key=\"mirna\", mode=\"w\")"
   ]
  },
  {
   "cell_type": "markdown",
   "metadata": {},
   "source": [
    "# Proteomics"
   ]
  },
  {
   "cell_type": "code",
   "execution_count": 3,
   "metadata": {
    "ExecuteTime": {
     "end_time": "2019-03-13T02:20:15.825459Z",
     "start_time": "2019-03-13T02:20:14.486664Z"
    }
   },
   "outputs": [],
   "source": [
    "proteomics = pd.read_csv(\"raw/ccle/protein_quant_current_normalized.csv\")\n",
    "proteomics.index = proteomics[\"Gene_Symbol\"] + \"_\" + proteomics[\"Protein_Id\"]\n",
    "proteomics.index = proteomics.index.astype(str) + \"_\" + proteomics.groupby(level=0).cumcount().astype(str)\n",
    "\n",
    "proteomics = proteomics.iloc[:,48:]\n",
    "proteomics = proteomics.T\n",
    "proteomics.index = proteomics.index.map(lambda x:x.split(\"_Ten\")[0])\n",
    "proteomics.index = proteomics.index.map(lambda x: name_mappings.name_map[x])\n",
    "proteomics = proteomics[~proteomics.index.duplicated(keep='first')]"
   ]
  },
  {
   "cell_type": "code",
   "execution_count": 4,
   "metadata": {
    "ExecuteTime": {
     "end_time": "2019-03-13T02:20:16.803365Z",
     "start_time": "2019-03-13T02:20:16.380240Z"
    }
   },
   "outputs": [],
   "source": [
    "proteomics.to_hdf(\"processed/ccle/protein_quant_current_normalized.hdf\",\n",
    "                  key=\"proteomics\",\n",
    "                  mode=\"w\")"
   ]
  },
  {
   "cell_type": "markdown",
   "metadata": {},
   "source": [
    "# TERT promoter"
   ]
  },
  {
   "cell_type": "code",
   "execution_count": 18,
   "metadata": {
    "ExecuteTime": {
     "end_time": "2019-03-11T22:56:36.944855Z",
     "start_time": "2019-03-11T22:56:36.851094Z"
    }
   },
   "outputs": [],
   "source": [
    "tertp_info = pd.read_csv(\"raw/ccle/Supplementary_Table_2_TERT_promoter_mutation.csv\",index_col=0)\n",
    "\n",
    "tertp_info.index = tertp_info.index.map(lambda x: name_mappings.name_map[x])\n",
    "\n",
    "tertp_info[\"tertp_mut\"] = tertp_info[\"Classical_Promoter_Mutations\"] != \"wildtype\"\n",
    "\n",
    "tertp_info.to_hdf(\"processed/ccle/Supplementary_Table_2_TERT_promoter_mutation.h5\",\n",
    "                  key=\"tertp_info\",\n",
    "                  mode=\"w\")"
   ]
  },
  {
   "cell_type": "markdown",
   "metadata": {},
   "source": [
    "# WES/WGS mutation calls"
   ]
  },
  {
   "cell_type": "code",
   "execution_count": 4,
   "metadata": {
    "ExecuteTime": {
     "end_time": "2019-04-06T02:41:05.377023Z",
     "start_time": "2019-04-06T02:40:58.549044Z"
    }
   },
   "outputs": [
    {
     "name": "stderr",
     "output_type": "stream",
     "text": [
      "/anaconda3/lib/python3.7/site-packages/IPython/core/interactiveshell.py:3049: DtypeWarning: Columns (3,25,26,27,30,31) have mixed types. Specify dtype option on import or set low_memory=False.\n",
      "  interactivity=interactivity, compiler=compiler, result=result)\n"
     ]
    }
   ],
   "source": [
    "genome_muts = pd.read_csv(\"raw/ccle/ccle2maf_ExcludSangerDriftedSubset_20180820.txt\",\n",
    "                          sep=\"\\t\")"
   ]
  },
  {
   "cell_type": "markdown",
   "metadata": {},
   "source": [
    "# Drug sensitivities"
   ]
  },
  {
   "cell_type": "code",
   "execution_count": 9,
   "metadata": {
    "ExecuteTime": {
     "end_time": "2019-04-25T03:10:00.621444Z",
     "start_time": "2019-04-25T03:09:51.471265Z"
    }
   },
   "outputs": [],
   "source": [
    "primary_mad = pd.read_csv(\"raw/ccle/primary-screen-public-tentative_v4-primary-merged-mad-lfcvc-cb.csv\",\n",
    "                         index_col=0)\n",
    "primary_median = pd.read_csv(\"raw/ccle/primary-screen-public-tentative_v4-primary-merged-median-lfcvc-cb.csv\",\n",
    "                            index_col=0)\n",
    "primary_meta = pd.read_csv(\"raw/ccle/primary-screen-public-tentative_v4-primary-merged-row-meta.csv\")\n",
    "\n",
    "secondary_mad = pd.read_csv(\"raw/ccle/secondary-screen-public-tentative_v3-secondary-merged-mad-lfcvc-cb.csv\",\n",
    "                           index_col=0)\n",
    "secondary_median = pd.read_csv(\"raw/ccle/secondary-screen-public-tentative_v3-secondary-merged-median-lfcvc-cb.csv\",\n",
    "                              index_col=0)\n",
    "secondary_meta = pd.read_csv(\"raw/ccle/secondary-screen-public-tentative_v3-secondary-merged-row-meta.csv\")\n",
    "\n",
    "primary_name_map = dict(zip(primary_meta[\"feature_id\"],primary_meta[\"depmap_id\"]))\n",
    "secondary_name_map = dict(zip(secondary_meta[\"feature_id\"],secondary_meta[\"depmap_id\"]))\n",
    "\n"
   ]
  },
  {
   "cell_type": "code",
   "execution_count": 14,
   "metadata": {
    "ExecuteTime": {
     "end_time": "2019-04-25T03:11:49.696902Z",
     "start_time": "2019-04-25T03:11:49.692116Z"
    }
   },
   "outputs": [],
   "source": [
    "primary_mad.index = primary_mad.index.map(lambda x: primary_name_map[x])\n",
    "primary_median.index = primary_median.index.map(lambda x: primary_name_map[x])\n",
    "\n",
    "secondary_mad.index = secondary_mad.index.map(lambda x: secondary_name_map[x])\n",
    "secondary_median.index = secondary_median.index.map(lambda x: secondary_name_map[x])"
   ]
  },
  {
   "cell_type": "code",
   "execution_count": 16,
   "metadata": {
    "ExecuteTime": {
     "end_time": "2019-04-25T03:13:15.367625Z",
     "start_time": "2019-04-25T03:13:14.311659Z"
    }
   },
   "outputs": [],
   "source": [
    "primary_mad.to_hdf(\n",
    "    \"processed/ccle/primary-screen-public-tentative_v4-primary-merged-mad-lfcvc-cb.h5\", \n",
    "    key=\"primary_mad\",\n",
    "    mode=\"w\")\n",
    "primary_median.to_hdf(\n",
    "    \"processed/ccle/primary-screen-public-tentative_v4-primary-merged-median-lfcvc-cb.h5\", \n",
    "    key=\"primary_median\",\n",
    "    mode=\"w\")\n",
    "\n",
    "secondary_mad.to_hdf(\n",
    "    \"processed/ccle/secondary-screen-public-tentative_v3-secondary-merged-mad-lfcvc-cb.h5\", \n",
    "    key=\"secondary_mad\",\n",
    "    mode=\"w\")\n",
    "secondary_median.to_hdf(\n",
    "    \"processed/ccle/secondary-screen-public-tentative_v3-secondary-merged-median-lfcvc-cb.h5\", \n",
    "    key=\"secondary_median\",\n",
    "    mode=\"w\")"
   ]
  },
  {
   "cell_type": "markdown",
   "metadata": {},
   "source": [
    "# Raw mutation data"
   ]
  },
  {
   "cell_type": "code",
   "execution_count": 4,
   "metadata": {
    "ExecuteTime": {
     "end_time": "2019-12-21T01:51:25.072309Z",
     "start_time": "2019-12-21T01:51:17.312240Z"
    }
   },
   "outputs": [
    {
     "name": "stderr",
     "output_type": "stream",
     "text": [
      "/Users/khu/anaconda3/envs/cenv/lib/python3.7/site-packages/IPython/core/interactiveshell.py:3058: DtypeWarning: Columns (4,20,26,27,28,29,30,31,32) have mixed types. Specify dtype option on import or set low_memory=False.\n",
      "  interactivity=interactivity, compiler=compiler, result=result)\n",
      "/Users/khu/anaconda3/envs/cenv/lib/python3.7/site-packages/numpy/lib/arraysetops.py:568: FutureWarning: elementwise comparison failed; returning scalar instead, but in the future will perform elementwise comparison\n",
      "  mask |= (ar1 == a)\n"
     ]
    }
   ],
   "source": [
    "mutation_calls = pd.read_csv(\"../data/raw/depmap/CCLE_mutations_19q4.csv\",index_col=0)"
   ]
  },
  {
   "cell_type": "code",
   "execution_count": 5,
   "metadata": {
    "ExecuteTime": {
     "end_time": "2019-12-21T01:51:27.163896Z",
     "start_time": "2019-12-21T01:51:26.138408Z"
    }
   },
   "outputs": [
    {
     "name": "stderr",
     "output_type": "stream",
     "text": [
      "/Users/khu/anaconda3/envs/cenv/lib/python3.7/site-packages/ipykernel_launcher.py:7: SettingWithCopyWarning: \n",
      "A value is trying to be set on a copy of a slice from a DataFrame.\n",
      "Try using .loc[row_indexer,col_indexer] = value instead\n",
      "\n",
      "See the caveats in the documentation: http://pandas.pydata.org/pandas-docs/stable/user_guide/indexing.html#returning-a-view-versus-a-copy\n",
      "  import sys\n",
      "/Users/khu/anaconda3/envs/cenv/lib/python3.7/site-packages/ipykernel_launcher.py:8: SettingWithCopyWarning: \n",
      "A value is trying to be set on a copy of a slice from a DataFrame.\n",
      "Try using .loc[row_indexer,col_indexer] = value instead\n",
      "\n",
      "See the caveats in the documentation: http://pandas.pydata.org/pandas-docs/stable/user_guide/indexing.html#returning-a-view-versus-a-copy\n",
      "  \n"
     ]
    }
   ],
   "source": [
    "damaging_muts = mutation_calls[mutation_calls[\"Variant_annotation\"]==\"damaging\"]\n",
    "hs_muts = mutation_calls[(mutation_calls[\"isCOSMIChotspot\"]==True)|(mutation_calls[\"isTCGAhotspot\"]==True)]\n",
    "\n",
    "damaging_counts = Counter(damaging_muts[\"Hugo_Symbol\"])\n",
    "hs_counts = Counter(hs_muts[\"Hugo_Symbol\"])\n",
    "\n",
    "damaging_muts[\"count\"] = damaging_muts[\"Hugo_Symbol\"].apply(lambda x: damaging_counts[x])\n",
    "hs_muts[\"count\"] = hs_muts[\"Hugo_Symbol\"].apply(lambda x: hs_counts[x])\n",
    "\n",
    "damaging_muts = damaging_muts[damaging_muts[\"count\"]>=4]\n",
    "hs_muts = hs_muts[hs_muts[\"count\"]>=4]\n",
    "\n",
    "damaging_muts[\"id\"] = damaging_muts[\"Hugo_Symbol\"] + \"_\" + damaging_muts[\"DepMap_ID\"]\n",
    "hs_muts[\"id\"] = hs_muts[\"Hugo_Symbol\"] + \"_\" + hs_muts[\"DepMap_ID\"]\n",
    "\n",
    "damaging_muts = damaging_muts.drop_duplicates(subset=[\"id\"],keep=\"first\")\n",
    "hs_muts = hs_muts.drop_duplicates(subset=[\"id\"],keep=\"first\")"
   ]
  },
  {
   "cell_type": "code",
   "execution_count": 6,
   "metadata": {
    "ExecuteTime": {
     "end_time": "2019-12-21T01:51:35.188788Z",
     "start_time": "2019-12-21T01:51:28.551868Z"
    }
   },
   "outputs": [],
   "source": [
    "hs_muts[\"value\"] = 1\n",
    "damaging_muts[\"value\"] = 1\n",
    "\n",
    "hs_mut_mat = pd.pivot_table(hs_muts, values=\"value\", index=[\n",
    "                            \"DepMap_ID\"], columns=\"Hugo_Symbol\", fill_value=0)\n",
    "damaging_mut_mat = pd.pivot_table(damaging_muts, values=\"value\", index=[\n",
    "                                  \"DepMap_ID\"], columns=\"Hugo_Symbol\", fill_value=0)"
   ]
  },
  {
   "cell_type": "code",
   "execution_count": 7,
   "metadata": {
    "ExecuteTime": {
     "end_time": "2019-12-21T01:53:28.254166Z",
     "start_time": "2019-12-21T01:53:26.719038Z"
    }
   },
   "outputs": [],
   "source": [
    "hs_mut_mat.to_hdf(\"processed/ccle/hs_mut_mat.hdf\",key=\"hs_mut_mat\",mode=\"w\")\n",
    "damaging_mut_mat.to_hdf(\"processed/ccle/damaging_mut_mat.hdf\",key=\"damaging_mut_mat\",mode=\"w\")"
   ]
  },
  {
   "cell_type": "markdown",
   "metadata": {},
   "source": [
    "# Binary calls for CNA/mutations"
   ]
  },
  {
   "cell_type": "code",
   "execution_count": 3,
   "metadata": {
    "ExecuteTime": {
     "end_time": "2019-12-06T19:27:03.516223Z",
     "start_time": "2019-12-06T19:26:56.951322Z"
    }
   },
   "outputs": [],
   "source": [
    "revealer = pd.read_csv(\"raw/ccle/CCLE_MUT_CNA_AMP_DEL_binary_Revealer.gct\",\n",
    "                       skiprows=2, index_col=0, sep=\"\\t\").iloc[:, 1:].T\n",
    "revealer = revealer.drop(\"UMRC6_KIDNEY\",axis=0)\n",
    "\n",
    "revealer.index = revealer.index.map(lambda x: name_mappings.name_map[x])\n",
    "revealer.to_hdf(\"processed/ccle/CCLE_MUT_CNA_AMP_DEL_binary_Revealer.hdf\",key=\"revealer\",mode=\"w\")"
   ]
  },
  {
   "cell_type": "markdown",
   "metadata": {},
   "source": [
    "# ssGSEA (new)"
   ]
  },
  {
   "cell_type": "code",
   "execution_count": 12,
   "metadata": {
    "ExecuteTime": {
     "end_time": "2019-10-13T23:38:56.942179Z",
     "start_time": "2019-10-13T23:38:56.504618Z"
    }
   },
   "outputs": [],
   "source": [
    "oncogenic = pd.read_csv(\"raw/ccle/CCLE_RNAseq_genes_rpkm_20180929.ssgsea_ONCOGENIC.gct\",\n",
    "                       sep=\"\\t\",\n",
    "                       index_col=0,\n",
    "                       skiprows=2\n",
    "                      )\n",
    "hallmark = pd.read_csv(\"raw/ccle/CCLE_RNAseq_genes_rpkm_20180929.ssgsea_HALLMARK.gct\",\n",
    "                       sep=\"\\t\",\n",
    "                       index_col=0,\n",
    "                       skiprows=2\n",
    "                      )\n",
    "senescence = pd.read_csv(\"raw/ccle/CCLE_RNAseq_genes_rpkm_20180929.ssgsea_SENESCENCE.gct\",\n",
    "                       sep=\"\\t\",\n",
    "                       index_col=0,\n",
    "                       skiprows=2\n",
    "                      )\n",
    "oncogenic = oncogenic.iloc[:,1:].T\n",
    "hallmark = hallmark.iloc[:,1:].T\n",
    "senescence = senescence.iloc[:,1:].T\n",
    "\n",
    "oncogenic = oncogenic.apply(zscore)\n",
    "hallmark = hallmark.apply(zscore)\n",
    "senescence = senescence.apply(zscore)\n",
    "\n",
    "ssgsea = pd.concat([oncogenic,hallmark,senescence],axis=1,sort=True)\n",
    "ssgsea.index = ssgsea.index.map(lambda x: name_mappings.name_map[x])\n",
    "ssgsea.to_hdf(\"processed/ccle/ssgsea.hdf\",key=\"ssgsea\",mode=\"w\")"
   ]
  },
  {
   "cell_type": "markdown",
   "metadata": {},
   "source": [
    "# Protein levels"
   ]
  },
  {
   "cell_type": "code",
   "execution_count": 34,
   "metadata": {
    "ExecuteTime": {
     "end_time": "2020-01-28T04:41:32.391206Z",
     "start_time": "2020-01-28T04:38:43.913517Z"
    }
   },
   "outputs": [],
   "source": [
    "ms_prot = pd.read_excel(\"../data/raw/ccle/Table_S2_Protein_Quant_Normalized.xlsx\",sheet_name=\"Normalized Protein Expression\")\n",
    "ms_prot = ms_prot[[x for x in ms_prot if x[:6] != \"Column\"]]\n",
    "ms_prot[\"Protein_Id\"] = ms_prot[\"Gene_Symbol\"] + \"_\" + ms_prot[\"Protein_Id\"]\n",
    "ms_prot = ms_prot.set_index(\"Protein_Id\")\n",
    "ms_prot = ms_prot.iloc[:,47:]\n",
    "ms_prot = ms_prot.T\n",
    "\n",
    "ms_prot.index = ms_prot.index.map(lambda x: \"_\".join(x.split(\"_\")[:-1]))\n",
    "ms_prot.index = ms_prot.index.map(lambda x: name_mappings.name_map[x])\n",
    "\n",
    "ms_prot.columns = [str(ms_prot.columns[i]) + \"_\" + str(i) for i in range(len(ms_prot.columns))]\n",
    "ms_prot = ms_prot[~ms_prot.index.duplicated(keep=\"first\")]"
   ]
  },
  {
   "cell_type": "code",
   "execution_count": 49,
   "metadata": {
    "ExecuteTime": {
     "end_time": "2020-01-28T04:52:33.956051Z",
     "start_time": "2020-01-28T04:52:33.840107Z"
    }
   },
   "outputs": [],
   "source": [
    "ms_prot.to_hdf(\"../data/processed/ccle/ms_prot.h5\",key=\"ms_prot\",mode=\"w\")"
   ]
  }
 ],
 "metadata": {
  "kernelspec": {
   "display_name": "Python 3",
   "language": "python",
   "name": "python3"
  },
  "language_info": {
   "codemirror_mode": {
    "name": "ipython",
    "version": 3
   },
   "file_extension": ".py",
   "mimetype": "text/x-python",
   "name": "python",
   "nbconvert_exporter": "python",
   "pygments_lexer": "ipython3",
   "version": "3.7.6"
  },
  "toc": {
   "base_numbering": 1,
   "nav_menu": {},
   "number_sections": true,
   "sideBar": true,
   "skip_h1_title": false,
   "title_cell": "Table of Contents",
   "title_sidebar": "Contents",
   "toc_cell": false,
   "toc_position": {
    "height": "609px",
    "left": "24px",
    "top": "109px",
    "width": "184px"
   },
   "toc_section_display": true,
   "toc_window_display": true
  }
 },
 "nbformat": 4,
 "nbformat_minor": 2
}
